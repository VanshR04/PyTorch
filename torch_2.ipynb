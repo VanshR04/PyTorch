{
  "nbformat": 4,
  "nbformat_minor": 0,
  "metadata": {
    "colab": {
      "provenance": [],
      "gpuType": "T4",
      "authorship_tag": "ABX9TyPQHyuNNapUYRjRxrHAZ/qy",
      "include_colab_link": true
    },
    "kernelspec": {
      "name": "python3",
      "display_name": "Python 3"
    },
    "language_info": {
      "name": "python"
    },
    "accelerator": "GPU"
  },
  "cells": [
    {
      "cell_type": "markdown",
      "metadata": {
        "id": "view-in-github",
        "colab_type": "text"
      },
      "source": [
        "<a href=\"https://colab.research.google.com/github/VanshR04/Pytorch/blob/main/torch_2.ipynb\" target=\"_parent\"><img src=\"https://colab.research.google.com/assets/colab-badge.svg\" alt=\"Open In Colab\"/></a>"
      ]
    },
    {
      "cell_type": "code",
      "execution_count": 135,
      "metadata": {
        "id": "HT5f5WTvHCMp"
      },
      "outputs": [],
      "source": [
        "import torch\n",
        "import numpy as np\n",
        "import matplotlib.pyplot as plt\n",
        "import pandas as pd"
      ]
    },
    {
      "cell_type": "code",
      "source": [
        "scalar = torch.tensor(7)\n",
        "scalar"
      ],
      "metadata": {
        "colab": {
          "base_uri": "https://localhost:8080/"
        },
        "id": "k6R_SU4-ymyT",
        "outputId": "cbb949e1-c101-4814-ffce-2132e68ae89f"
      },
      "execution_count": 136,
      "outputs": [
        {
          "output_type": "execute_result",
          "data": {
            "text/plain": [
              "tensor(7)"
            ]
          },
          "metadata": {},
          "execution_count": 136
        }
      ]
    },
    {
      "cell_type": "code",
      "source": [
        "scalar.ndim"
      ],
      "metadata": {
        "colab": {
          "base_uri": "https://localhost:8080/"
        },
        "id": "9QjLf_z6y0jK",
        "outputId": "bc46e294-c1e2-49d2-bbfe-d8c3be0e61e4"
      },
      "execution_count": 137,
      "outputs": [
        {
          "output_type": "execute_result",
          "data": {
            "text/plain": [
              "0"
            ]
          },
          "metadata": {},
          "execution_count": 137
        }
      ]
    },
    {
      "cell_type": "code",
      "source": [
        "scalar.item()"
      ],
      "metadata": {
        "colab": {
          "base_uri": "https://localhost:8080/"
        },
        "id": "orOG73KlzAT9",
        "outputId": "9567ee64-8261-4387-bf7b-eae613f87981"
      },
      "execution_count": 138,
      "outputs": [
        {
          "output_type": "execute_result",
          "data": {
            "text/plain": [
              "7"
            ]
          },
          "metadata": {},
          "execution_count": 138
        }
      ]
    },
    {
      "cell_type": "code",
      "source": [
        "vec = torch.tensor([7,7])"
      ],
      "metadata": {
        "id": "55_-zrd3zUGr"
      },
      "execution_count": 139,
      "outputs": []
    },
    {
      "cell_type": "code",
      "source": [
        "vec"
      ],
      "metadata": {
        "colab": {
          "base_uri": "https://localhost:8080/"
        },
        "id": "9psEaDqpziC3",
        "outputId": "4b232264-008d-4e20-ea82-9f3b05115a07"
      },
      "execution_count": 140,
      "outputs": [
        {
          "output_type": "execute_result",
          "data": {
            "text/plain": [
              "tensor([7, 7])"
            ]
          },
          "metadata": {},
          "execution_count": 140
        }
      ]
    },
    {
      "cell_type": "code",
      "source": [
        "vec.ndim"
      ],
      "metadata": {
        "colab": {
          "base_uri": "https://localhost:8080/"
        },
        "id": "PY_ENkNbzjKP",
        "outputId": "85f27dc4-4e82-4476-d74e-182229a8c1c6"
      },
      "execution_count": 141,
      "outputs": [
        {
          "output_type": "execute_result",
          "data": {
            "text/plain": [
              "1"
            ]
          },
          "metadata": {},
          "execution_count": 141
        }
      ]
    },
    {
      "cell_type": "code",
      "source": [
        "vec.shape"
      ],
      "metadata": {
        "colab": {
          "base_uri": "https://localhost:8080/"
        },
        "id": "wHo-KWK2ztvK",
        "outputId": "745493aa-123f-4933-92b6-a394bbec66e0"
      },
      "execution_count": 142,
      "outputs": [
        {
          "output_type": "execute_result",
          "data": {
            "text/plain": [
              "torch.Size([2])"
            ]
          },
          "metadata": {},
          "execution_count": 142
        }
      ]
    },
    {
      "cell_type": "code",
      "source": [
        "matrix = torch.tensor([[1,2],[3,4]])"
      ],
      "metadata": {
        "id": "QYJd483azzRB"
      },
      "execution_count": 143,
      "outputs": []
    },
    {
      "cell_type": "code",
      "source": [
        "matrix.ndim"
      ],
      "metadata": {
        "colab": {
          "base_uri": "https://localhost:8080/"
        },
        "id": "HMzmlX5yz93l",
        "outputId": "65ca050e-41c0-4e2c-b68f-18215a78a22c"
      },
      "execution_count": 144,
      "outputs": [
        {
          "output_type": "execute_result",
          "data": {
            "text/plain": [
              "2"
            ]
          },
          "metadata": {},
          "execution_count": 144
        }
      ]
    },
    {
      "cell_type": "code",
      "source": [
        "matrix"
      ],
      "metadata": {
        "colab": {
          "base_uri": "https://localhost:8080/"
        },
        "id": "11quzVDE0Bsc",
        "outputId": "6b28cf2b-e3df-4d16-874f-bf3109aac4b7"
      },
      "execution_count": 145,
      "outputs": [
        {
          "output_type": "execute_result",
          "data": {
            "text/plain": [
              "tensor([[1, 2],\n",
              "        [3, 4]])"
            ]
          },
          "metadata": {},
          "execution_count": 145
        }
      ]
    },
    {
      "cell_type": "code",
      "source": [
        "matrix.shape"
      ],
      "metadata": {
        "colab": {
          "base_uri": "https://localhost:8080/"
        },
        "id": "-ML9RHC30Dly",
        "outputId": "f166a100-ff17-4f04-a042-9ea35b3c0f4f"
      },
      "execution_count": 146,
      "outputs": [
        {
          "output_type": "execute_result",
          "data": {
            "text/plain": [
              "torch.Size([2, 2])"
            ]
          },
          "metadata": {},
          "execution_count": 146
        }
      ]
    },
    {
      "cell_type": "code",
      "source": [
        "matrix[0]"
      ],
      "metadata": {
        "colab": {
          "base_uri": "https://localhost:8080/"
        },
        "id": "BM0giGbN0HDV",
        "outputId": "e76e76d9-c913-4055-980f-6c1019ee67c7"
      },
      "execution_count": 147,
      "outputs": [
        {
          "output_type": "execute_result",
          "data": {
            "text/plain": [
              "tensor([1, 2])"
            ]
          },
          "metadata": {},
          "execution_count": 147
        }
      ]
    },
    {
      "cell_type": "code",
      "source": [
        "TENSOR = torch.tensor([[[1,2,3],\n",
        "                        [4,5,6],\n",
        "                        [7,8,9]]])"
      ],
      "metadata": {
        "id": "ULqRnCDG0MA4"
      },
      "execution_count": 148,
      "outputs": []
    },
    {
      "cell_type": "code",
      "source": [
        "TENSOR"
      ],
      "metadata": {
        "colab": {
          "base_uri": "https://localhost:8080/"
        },
        "id": "SR0ikyu00mN2",
        "outputId": "7ba7f248-735c-43bd-ef91-fddc93055435"
      },
      "execution_count": 149,
      "outputs": [
        {
          "output_type": "execute_result",
          "data": {
            "text/plain": [
              "tensor([[[1, 2, 3],\n",
              "         [4, 5, 6],\n",
              "         [7, 8, 9]]])"
            ]
          },
          "metadata": {},
          "execution_count": 149
        }
      ]
    },
    {
      "cell_type": "code",
      "source": [
        "TENSOR.shape"
      ],
      "metadata": {
        "colab": {
          "base_uri": "https://localhost:8080/"
        },
        "id": "gSSKzN1e0nPI",
        "outputId": "eecf4ada-a3f2-4572-fc10-250e857e03b6"
      },
      "execution_count": 150,
      "outputs": [
        {
          "output_type": "execute_result",
          "data": {
            "text/plain": [
              "torch.Size([1, 3, 3])"
            ]
          },
          "metadata": {},
          "execution_count": 150
        }
      ]
    },
    {
      "cell_type": "code",
      "source": [
        "TENSOR.ndim"
      ],
      "metadata": {
        "colab": {
          "base_uri": "https://localhost:8080/"
        },
        "id": "udJVjRvy0qD4",
        "outputId": "a1a347c5-bd1c-4573-e30a-812a9299c1e9"
      },
      "execution_count": 151,
      "outputs": [
        {
          "output_type": "execute_result",
          "data": {
            "text/plain": [
              "3"
            ]
          },
          "metadata": {},
          "execution_count": 151
        }
      ]
    },
    {
      "cell_type": "code",
      "source": [
        "TENSOR[0][1]"
      ],
      "metadata": {
        "colab": {
          "base_uri": "https://localhost:8080/"
        },
        "id": "BHJJZoc60u_S",
        "outputId": "befa0df5-5363-439e-c639-15107a1c5f69"
      },
      "execution_count": 152,
      "outputs": [
        {
          "output_type": "execute_result",
          "data": {
            "text/plain": [
              "tensor([4, 5, 6])"
            ]
          },
          "metadata": {},
          "execution_count": 152
        }
      ]
    },
    {
      "cell_type": "code",
      "source": [
        "#Random tensors"
      ],
      "metadata": {
        "id": "g40gwogG1QKA"
      },
      "execution_count": 153,
      "outputs": []
    },
    {
      "cell_type": "code",
      "source": [
        "random_tensor = torch.rand(3,4)"
      ],
      "metadata": {
        "id": "AQA-qBb31ife"
      },
      "execution_count": 154,
      "outputs": []
    },
    {
      "cell_type": "code",
      "source": [
        "random_tensor"
      ],
      "metadata": {
        "colab": {
          "base_uri": "https://localhost:8080/"
        },
        "id": "EQs5naY-15DX",
        "outputId": "bfe1fd61-5b04-402b-c279-16b4fc3cf7e0"
      },
      "execution_count": 155,
      "outputs": [
        {
          "output_type": "execute_result",
          "data": {
            "text/plain": [
              "tensor([[0.8694, 0.5677, 0.7411, 0.4294],\n",
              "        [0.8854, 0.5739, 0.2666, 0.6274],\n",
              "        [0.2696, 0.4414, 0.2969, 0.8317]])"
            ]
          },
          "metadata": {},
          "execution_count": 155
        }
      ]
    },
    {
      "cell_type": "code",
      "source": [
        "random_tensor.ndim"
      ],
      "metadata": {
        "colab": {
          "base_uri": "https://localhost:8080/"
        },
        "id": "zEpOlPRH17v6",
        "outputId": "1a461e81-731a-4882-d18e-a99e0f142204"
      },
      "execution_count": 156,
      "outputs": [
        {
          "output_type": "execute_result",
          "data": {
            "text/plain": [
              "2"
            ]
          },
          "metadata": {},
          "execution_count": 156
        }
      ]
    },
    {
      "cell_type": "code",
      "source": [
        "random_tensor.shape"
      ],
      "metadata": {
        "colab": {
          "base_uri": "https://localhost:8080/"
        },
        "id": "UiMYA8s72art",
        "outputId": "adbd27ac-c6c2-4247-f04f-6ad5b7396a23"
      },
      "execution_count": 157,
      "outputs": [
        {
          "output_type": "execute_result",
          "data": {
            "text/plain": [
              "torch.Size([3, 4])"
            ]
          },
          "metadata": {},
          "execution_count": 157
        }
      ]
    },
    {
      "cell_type": "code",
      "source": [
        "image_tensor = torch.rand(size = (224,224,3))"
      ],
      "metadata": {
        "id": "J34P1mXm2cve"
      },
      "execution_count": 158,
      "outputs": []
    },
    {
      "cell_type": "code",
      "source": [
        "image_tensor"
      ],
      "metadata": {
        "colab": {
          "base_uri": "https://localhost:8080/"
        },
        "id": "6xtnU4Ip2nSR",
        "outputId": "993a4980-ad5d-4b59-8f55-63a4b201af15"
      },
      "execution_count": 159,
      "outputs": [
        {
          "output_type": "execute_result",
          "data": {
            "text/plain": [
              "tensor([[[0.1053, 0.2695, 0.3588],\n",
              "         [0.1994, 0.5472, 0.0062],\n",
              "         [0.9516, 0.0753, 0.8860],\n",
              "         ...,\n",
              "         [0.3421, 0.0172, 0.3031],\n",
              "         [0.6576, 0.9813, 0.5840],\n",
              "         [0.9902, 0.5978, 0.7888]],\n",
              "\n",
              "        [[0.9008, 0.9180, 0.2201],\n",
              "         [0.9597, 0.8029, 0.2662],\n",
              "         [0.2614, 0.0806, 0.6256],\n",
              "         ...,\n",
              "         [0.3568, 0.1704, 0.6172],\n",
              "         [0.0231, 0.6317, 0.7472],\n",
              "         [0.0614, 0.1727, 0.1405]],\n",
              "\n",
              "        [[0.9203, 0.9251, 0.5313],\n",
              "         [0.9694, 0.3328, 0.0146],\n",
              "         [0.6746, 0.6771, 0.9902],\n",
              "         ...,\n",
              "         [0.8345, 0.2273, 0.2865],\n",
              "         [0.3940, 0.1418, 0.3650],\n",
              "         [0.0908, 0.6902, 0.8538]],\n",
              "\n",
              "        ...,\n",
              "\n",
              "        [[0.5521, 0.6004, 0.1658],\n",
              "         [0.1479, 0.8327, 0.2563],\n",
              "         [0.1063, 0.4770, 0.2286],\n",
              "         ...,\n",
              "         [0.1551, 0.7881, 0.3759],\n",
              "         [0.7442, 0.8621, 0.7548],\n",
              "         [0.6381, 0.0106, 0.0893]],\n",
              "\n",
              "        [[0.6170, 0.3402, 0.8306],\n",
              "         [0.0705, 0.2111, 0.6203],\n",
              "         [0.6531, 0.4660, 0.2933],\n",
              "         ...,\n",
              "         [0.6393, 0.7158, 0.6099],\n",
              "         [0.1369, 0.4302, 0.7265],\n",
              "         [0.6237, 0.8480, 0.4580]],\n",
              "\n",
              "        [[0.2424, 0.8264, 0.0015],\n",
              "         [0.9050, 0.1563, 0.7214],\n",
              "         [0.2574, 0.0023, 0.2589],\n",
              "         ...,\n",
              "         [0.0992, 0.3078, 0.7786],\n",
              "         [0.8016, 0.3649, 0.6286],\n",
              "         [0.9663, 0.7687, 0.4566]]])"
            ]
          },
          "metadata": {},
          "execution_count": 159
        }
      ]
    },
    {
      "cell_type": "code",
      "source": [
        "image_tensor.ndim"
      ],
      "metadata": {
        "colab": {
          "base_uri": "https://localhost:8080/"
        },
        "id": "hS4Y8A6F2ojW",
        "outputId": "a5b7b062-3d08-40f3-875e-0f3e60ff015a"
      },
      "execution_count": 160,
      "outputs": [
        {
          "output_type": "execute_result",
          "data": {
            "text/plain": [
              "3"
            ]
          },
          "metadata": {},
          "execution_count": 160
        }
      ]
    },
    {
      "cell_type": "code",
      "source": [
        "image_tensor.shape"
      ],
      "metadata": {
        "colab": {
          "base_uri": "https://localhost:8080/"
        },
        "id": "enttu1wz2rwc",
        "outputId": "685bcc74-8571-4606-d12b-d38d9556a81e"
      },
      "execution_count": 161,
      "outputs": [
        {
          "output_type": "execute_result",
          "data": {
            "text/plain": [
              "torch.Size([224, 224, 3])"
            ]
          },
          "metadata": {},
          "execution_count": 161
        }
      ]
    },
    {
      "cell_type": "code",
      "source": [
        "r = torch.rand(size = (3,3))\n",
        "r"
      ],
      "metadata": {
        "colab": {
          "base_uri": "https://localhost:8080/"
        },
        "id": "iEwNLNsb2tHi",
        "outputId": "7ee1dff9-f9ca-463d-e674-f1db0f033993"
      },
      "execution_count": 162,
      "outputs": [
        {
          "output_type": "execute_result",
          "data": {
            "text/plain": [
              "tensor([[0.5745, 0.9200, 0.3230],\n",
              "        [0.8613, 0.0919, 0.3102],\n",
              "        [0.9536, 0.6002, 0.0351]])"
            ]
          },
          "metadata": {},
          "execution_count": 162
        }
      ]
    },
    {
      "cell_type": "code",
      "source": [
        "zero = torch.zeros([224,224,3])\n",
        "zero"
      ],
      "metadata": {
        "colab": {
          "base_uri": "https://localhost:8080/"
        },
        "id": "NAStTnQN5_iC",
        "outputId": "c96f7f9a-8f36-4eaa-e999-11a6cbed2a7f"
      },
      "execution_count": 163,
      "outputs": [
        {
          "output_type": "execute_result",
          "data": {
            "text/plain": [
              "tensor([[[0., 0., 0.],\n",
              "         [0., 0., 0.],\n",
              "         [0., 0., 0.],\n",
              "         ...,\n",
              "         [0., 0., 0.],\n",
              "         [0., 0., 0.],\n",
              "         [0., 0., 0.]],\n",
              "\n",
              "        [[0., 0., 0.],\n",
              "         [0., 0., 0.],\n",
              "         [0., 0., 0.],\n",
              "         ...,\n",
              "         [0., 0., 0.],\n",
              "         [0., 0., 0.],\n",
              "         [0., 0., 0.]],\n",
              "\n",
              "        [[0., 0., 0.],\n",
              "         [0., 0., 0.],\n",
              "         [0., 0., 0.],\n",
              "         ...,\n",
              "         [0., 0., 0.],\n",
              "         [0., 0., 0.],\n",
              "         [0., 0., 0.]],\n",
              "\n",
              "        ...,\n",
              "\n",
              "        [[0., 0., 0.],\n",
              "         [0., 0., 0.],\n",
              "         [0., 0., 0.],\n",
              "         ...,\n",
              "         [0., 0., 0.],\n",
              "         [0., 0., 0.],\n",
              "         [0., 0., 0.]],\n",
              "\n",
              "        [[0., 0., 0.],\n",
              "         [0., 0., 0.],\n",
              "         [0., 0., 0.],\n",
              "         ...,\n",
              "         [0., 0., 0.],\n",
              "         [0., 0., 0.],\n",
              "         [0., 0., 0.]],\n",
              "\n",
              "        [[0., 0., 0.],\n",
              "         [0., 0., 0.],\n",
              "         [0., 0., 0.],\n",
              "         ...,\n",
              "         [0., 0., 0.],\n",
              "         [0., 0., 0.],\n",
              "         [0., 0., 0.]]])"
            ]
          },
          "metadata": {},
          "execution_count": 163
        }
      ]
    },
    {
      "cell_type": "code",
      "source": [
        "ones = torch.ones(5, dtype=int)\n",
        "ones"
      ],
      "metadata": {
        "colab": {
          "base_uri": "https://localhost:8080/"
        },
        "id": "qGgczuye667u",
        "outputId": "3628afaa-5994-4a7a-f6be-b4eafcdf07be"
      },
      "execution_count": 164,
      "outputs": [
        {
          "output_type": "execute_result",
          "data": {
            "text/plain": [
              "tensor([1, 1, 1, 1, 1])"
            ]
          },
          "metadata": {},
          "execution_count": 164
        }
      ]
    },
    {
      "cell_type": "code",
      "source": [
        "ones.dtype"
      ],
      "metadata": {
        "colab": {
          "base_uri": "https://localhost:8080/"
        },
        "id": "dmq0bc_47Tle",
        "outputId": "aa734b18-ada9-4eac-80c3-48bb92b77144"
      },
      "execution_count": 165,
      "outputs": [
        {
          "output_type": "execute_result",
          "data": {
            "text/plain": [
              "torch.int64"
            ]
          },
          "metadata": {},
          "execution_count": 165
        }
      ]
    },
    {
      "cell_type": "code",
      "source": [
        "range = torch.arange(0,10)"
      ],
      "metadata": {
        "id": "8pcDIcGt7okf"
      },
      "execution_count": 166,
      "outputs": []
    },
    {
      "cell_type": "code",
      "source": [
        "range"
      ],
      "metadata": {
        "colab": {
          "base_uri": "https://localhost:8080/"
        },
        "id": "dT_ZGs3q716B",
        "outputId": "1017de66-b051-48f9-88e0-d4fae21657c5"
      },
      "execution_count": 167,
      "outputs": [
        {
          "output_type": "execute_result",
          "data": {
            "text/plain": [
              "tensor([0, 1, 2, 3, 4, 5, 6, 7, 8, 9])"
            ]
          },
          "metadata": {},
          "execution_count": 167
        }
      ]
    },
    {
      "cell_type": "code",
      "source": [
        "range.dtype"
      ],
      "metadata": {
        "colab": {
          "base_uri": "https://localhost:8080/"
        },
        "id": "LKDbKtoW72wd",
        "outputId": "70c8fa90-7167-443d-f3b7-e5be92d30217"
      },
      "execution_count": 168,
      "outputs": [
        {
          "output_type": "execute_result",
          "data": {
            "text/plain": [
              "torch.int64"
            ]
          },
          "metadata": {},
          "execution_count": 168
        }
      ]
    },
    {
      "cell_type": "code",
      "source": [
        "similar_zeros = torch.zeros_like(range)"
      ],
      "metadata": {
        "id": "iTUlxqmM-NT5"
      },
      "execution_count": 169,
      "outputs": []
    },
    {
      "cell_type": "code",
      "source": [
        "similar_zeros"
      ],
      "metadata": {
        "colab": {
          "base_uri": "https://localhost:8080/"
        },
        "id": "NFx8vAJxD4wY",
        "outputId": "e2b3f0d9-67cd-4c3d-d77c-fd86736eb6c6"
      },
      "execution_count": 170,
      "outputs": [
        {
          "output_type": "execute_result",
          "data": {
            "text/plain": [
              "tensor([0, 0, 0, 0, 0, 0, 0, 0, 0, 0])"
            ]
          },
          "metadata": {},
          "execution_count": 170
        }
      ]
    },
    {
      "cell_type": "code",
      "source": [
        "similar_zeros.shape"
      ],
      "metadata": {
        "colab": {
          "base_uri": "https://localhost:8080/"
        },
        "id": "RJNB7k4BD5wu",
        "outputId": "86e8976e-85e8-43c1-a775-7e7467f47196"
      },
      "execution_count": 171,
      "outputs": [
        {
          "output_type": "execute_result",
          "data": {
            "text/plain": [
              "torch.Size([10])"
            ]
          },
          "metadata": {},
          "execution_count": 171
        }
      ]
    },
    {
      "cell_type": "markdown",
      "source": [
        "###Tensor Datatypes"
      ],
      "metadata": {
        "id": "QImLAho1EJPT"
      }
    },
    {
      "cell_type": "code",
      "source": [
        "tens = torch.tensor([3.0,6.0,9.0], dtype=None,\n",
        "                    device=None,#cpu, cuda\n",
        "                    requires_grad=False)#"
      ],
      "metadata": {
        "id": "yFIJy62_EKs4"
      },
      "execution_count": 172,
      "outputs": []
    },
    {
      "cell_type": "code",
      "source": [
        "tens"
      ],
      "metadata": {
        "colab": {
          "base_uri": "https://localhost:8080/"
        },
        "id": "28yKrrhQEN1C",
        "outputId": "bf045e92-a3ed-4619-bafe-616e22240258"
      },
      "execution_count": 173,
      "outputs": [
        {
          "output_type": "execute_result",
          "data": {
            "text/plain": [
              "tensor([3., 6., 9.])"
            ]
          },
          "metadata": {},
          "execution_count": 173
        }
      ]
    },
    {
      "cell_type": "code",
      "source": [
        "tens.dtype"
      ],
      "metadata": {
        "colab": {
          "base_uri": "https://localhost:8080/"
        },
        "id": "lIKWWUjCEOmZ",
        "outputId": "c40087d0-07b3-49c5-86f4-1d6e3a4835f8"
      },
      "execution_count": 174,
      "outputs": [
        {
          "output_type": "execute_result",
          "data": {
            "text/plain": [
              "torch.float32"
            ]
          },
          "metadata": {},
          "execution_count": 174
        }
      ]
    },
    {
      "cell_type": "code",
      "source": [
        "tens.device"
      ],
      "metadata": {
        "colab": {
          "base_uri": "https://localhost:8080/"
        },
        "id": "Vdct_gmGEV3P",
        "outputId": "65d75d78-1139-4adc-800d-214f2940d619"
      },
      "execution_count": 175,
      "outputs": [
        {
          "output_type": "execute_result",
          "data": {
            "text/plain": [
              "device(type='cpu')"
            ]
          },
          "metadata": {},
          "execution_count": 175
        }
      ]
    },
    {
      "cell_type": "code",
      "source": [
        "tens_16 = tens.type(torch.int)"
      ],
      "metadata": {
        "id": "FQCRH3UgE4Oo"
      },
      "execution_count": 176,
      "outputs": []
    },
    {
      "cell_type": "code",
      "source": [
        "tens_mult = (tens * tens_16).type(torch.int)"
      ],
      "metadata": {
        "id": "fHWWHUk2F2t4"
      },
      "execution_count": 177,
      "outputs": []
    },
    {
      "cell_type": "code",
      "source": [
        "tens_16.dtype"
      ],
      "metadata": {
        "colab": {
          "base_uri": "https://localhost:8080/"
        },
        "id": "AG4b9QdrG8oG",
        "outputId": "bea9cf28-4485-4b95-da0f-d49330e4b3b0"
      },
      "execution_count": 178,
      "outputs": [
        {
          "output_type": "execute_result",
          "data": {
            "text/plain": [
              "torch.int32"
            ]
          },
          "metadata": {},
          "execution_count": 178
        }
      ]
    },
    {
      "cell_type": "code",
      "source": [
        "tens.dtype"
      ],
      "metadata": {
        "colab": {
          "base_uri": "https://localhost:8080/"
        },
        "id": "8C3UozgWHBhE",
        "outputId": "eec0f9da-5d2e-4731-9f82-c9067c936887"
      },
      "execution_count": 179,
      "outputs": [
        {
          "output_type": "execute_result",
          "data": {
            "text/plain": [
              "torch.float32"
            ]
          },
          "metadata": {},
          "execution_count": 179
        }
      ]
    },
    {
      "cell_type": "code",
      "source": [
        "tens_mult.dtype"
      ],
      "metadata": {
        "colab": {
          "base_uri": "https://localhost:8080/"
        },
        "id": "28oNYOMhHCze",
        "outputId": "8e94055b-fdd8-4e0c-82ae-44783d9b81ae"
      },
      "execution_count": 180,
      "outputs": [
        {
          "output_type": "execute_result",
          "data": {
            "text/plain": [
              "torch.int32"
            ]
          },
          "metadata": {},
          "execution_count": 180
        }
      ]
    },
    {
      "cell_type": "code",
      "source": [
        "tens_mult"
      ],
      "metadata": {
        "colab": {
          "base_uri": "https://localhost:8080/"
        },
        "id": "V4cV-t3JHGZr",
        "outputId": "83fa824a-a49a-46e9-b74b-c63c0c0dd42e"
      },
      "execution_count": 181,
      "outputs": [
        {
          "output_type": "execute_result",
          "data": {
            "text/plain": [
              "tensor([ 9, 36, 81], dtype=torch.int32)"
            ]
          },
          "metadata": {},
          "execution_count": 181
        }
      ]
    },
    {
      "cell_type": "code",
      "source": [
        "tes1 = torch.tensor([1,2,3])\n",
        "tes2 = torch.tensor([[1],[2],[3]])\n",
        "print(torch.matmul(tes1,tes2))"
      ],
      "metadata": {
        "colab": {
          "base_uri": "https://localhost:8080/"
        },
        "id": "zXlGt1k5In7F",
        "outputId": "c06c5ab2-dd85-4ab5-bbf2-3cd5f9349fab"
      },
      "execution_count": 182,
      "outputs": [
        {
          "output_type": "stream",
          "name": "stdout",
          "text": [
            "tensor([14])\n"
          ]
        }
      ]
    },
    {
      "cell_type": "code",
      "source": [
        "x = torch.arange(0,100,10)"
      ],
      "metadata": {
        "id": "WjfZbAys2CP3"
      },
      "execution_count": 183,
      "outputs": []
    },
    {
      "cell_type": "code",
      "source": [
        "x"
      ],
      "metadata": {
        "colab": {
          "base_uri": "https://localhost:8080/"
        },
        "id": "3OGhjT8n7OmE",
        "outputId": "e035a675-6208-40ab-9191-dc1b89956336"
      },
      "execution_count": 184,
      "outputs": [
        {
          "output_type": "execute_result",
          "data": {
            "text/plain": [
              "tensor([ 0, 10, 20, 30, 40, 50, 60, 70, 80, 90])"
            ]
          },
          "metadata": {},
          "execution_count": 184
        }
      ]
    },
    {
      "cell_type": "code",
      "source": [
        "x.min()"
      ],
      "metadata": {
        "colab": {
          "base_uri": "https://localhost:8080/"
        },
        "id": "_PFHNbYJ7PDY",
        "outputId": "23801998-df41-4c66-d19b-a6da8acef471"
      },
      "execution_count": 185,
      "outputs": [
        {
          "output_type": "execute_result",
          "data": {
            "text/plain": [
              "tensor(0)"
            ]
          },
          "metadata": {},
          "execution_count": 185
        }
      ]
    },
    {
      "cell_type": "code",
      "source": [
        "x.max()"
      ],
      "metadata": {
        "colab": {
          "base_uri": "https://localhost:8080/"
        },
        "id": "m6JMiIfn7Q9m",
        "outputId": "0c651638-ff18-47f6-e0c1-299f3a603d80"
      },
      "execution_count": 186,
      "outputs": [
        {
          "output_type": "execute_result",
          "data": {
            "text/plain": [
              "tensor(90)"
            ]
          },
          "metadata": {},
          "execution_count": 186
        }
      ]
    },
    {
      "cell_type": "code",
      "source": [
        "torch.mean(x.type(torch.float32))"
      ],
      "metadata": {
        "colab": {
          "base_uri": "https://localhost:8080/"
        },
        "id": "rf9DHsL97WkS",
        "outputId": "a8698f60-b8de-44ac-ecfd-457b51cdeb52"
      },
      "execution_count": 187,
      "outputs": [
        {
          "output_type": "execute_result",
          "data": {
            "text/plain": [
              "tensor(45.)"
            ]
          },
          "metadata": {},
          "execution_count": 187
        }
      ]
    },
    {
      "cell_type": "code",
      "source": [
        "x.type(torch.float32).mean()"
      ],
      "metadata": {
        "colab": {
          "base_uri": "https://localhost:8080/"
        },
        "id": "cHqc4ZZA7XgI",
        "outputId": "77400bba-8876-4fab-fb38-84d48badf6ba"
      },
      "execution_count": 188,
      "outputs": [
        {
          "output_type": "execute_result",
          "data": {
            "text/plain": [
              "tensor(45.)"
            ]
          },
          "metadata": {},
          "execution_count": 188
        }
      ]
    },
    {
      "cell_type": "code",
      "source": [
        "x.sum()"
      ],
      "metadata": {
        "colab": {
          "base_uri": "https://localhost:8080/"
        },
        "id": "2KJ5Mo5R79DF",
        "outputId": "75d6f1af-54d2-446e-ff5b-6c26edb6da0a"
      },
      "execution_count": 189,
      "outputs": [
        {
          "output_type": "execute_result",
          "data": {
            "text/plain": [
              "tensor(450)"
            ]
          },
          "metadata": {},
          "execution_count": 189
        }
      ]
    },
    {
      "cell_type": "code",
      "source": [
        "x"
      ],
      "metadata": {
        "colab": {
          "base_uri": "https://localhost:8080/"
        },
        "id": "yR9LEaE38BbQ",
        "outputId": "89fcf4e7-14f5-4394-c237-3afa8bfdccff"
      },
      "execution_count": 190,
      "outputs": [
        {
          "output_type": "execute_result",
          "data": {
            "text/plain": [
              "tensor([ 0, 10, 20, 30, 40, 50, 60, 70, 80, 90])"
            ]
          },
          "metadata": {},
          "execution_count": 190
        }
      ]
    },
    {
      "cell_type": "code",
      "source": [
        "x.argmin()#index of min value"
      ],
      "metadata": {
        "colab": {
          "base_uri": "https://localhost:8080/"
        },
        "id": "qGgHsmHm8bpz",
        "outputId": "1381540e-0a7f-4414-c1f0-fab1b8eef204"
      },
      "execution_count": 191,
      "outputs": [
        {
          "output_type": "execute_result",
          "data": {
            "text/plain": [
              "tensor(0)"
            ]
          },
          "metadata": {},
          "execution_count": 191
        }
      ]
    },
    {
      "cell_type": "code",
      "source": [
        "x.argmax()#index of max value"
      ],
      "metadata": {
        "colab": {
          "base_uri": "https://localhost:8080/"
        },
        "id": "m_jhk-PB8daR",
        "outputId": "ea9b82ec-485a-4ed7-9c34-1ff1b07eb04d"
      },
      "execution_count": 192,
      "outputs": [
        {
          "output_type": "execute_result",
          "data": {
            "text/plain": [
              "tensor(9)"
            ]
          },
          "metadata": {},
          "execution_count": 192
        }
      ]
    },
    {
      "cell_type": "code",
      "source": [
        " x"
      ],
      "metadata": {
        "colab": {
          "base_uri": "https://localhost:8080/"
        },
        "id": "3qi1d6TM8h47",
        "outputId": "22dd172a-3dd5-4d0f-fbd8-dbfeae0eb2aa"
      },
      "execution_count": 193,
      "outputs": [
        {
          "output_type": "execute_result",
          "data": {
            "text/plain": [
              "tensor([ 0, 10, 20, 30, 40, 50, 60, 70, 80, 90])"
            ]
          },
          "metadata": {},
          "execution_count": 193
        }
      ]
    },
    {
      "cell_type": "code",
      "source": [
        "x = torch.arange(1,11)\n",
        "x"
      ],
      "metadata": {
        "colab": {
          "base_uri": "https://localhost:8080/"
        },
        "id": "2zouHUTbFazp",
        "outputId": "a72cc771-538b-4b69-8117-88cc3465078f"
      },
      "execution_count": 194,
      "outputs": [
        {
          "output_type": "execute_result",
          "data": {
            "text/plain": [
              "tensor([ 1,  2,  3,  4,  5,  6,  7,  8,  9, 10])"
            ]
          },
          "metadata": {},
          "execution_count": 194
        }
      ]
    },
    {
      "cell_type": "code",
      "source": [
        "x.size()"
      ],
      "metadata": {
        "colab": {
          "base_uri": "https://localhost:8080/"
        },
        "id": "IjquU9xMF16E",
        "outputId": "ad838994-639e-4a47-ab1d-0c54585f00f7"
      },
      "execution_count": 195,
      "outputs": [
        {
          "output_type": "execute_result",
          "data": {
            "text/plain": [
              "torch.Size([10])"
            ]
          },
          "metadata": {},
          "execution_count": 195
        }
      ]
    },
    {
      "cell_type": "code",
      "source": [
        "x_reshaped = x.reshape(1,10)"
      ],
      "metadata": {
        "id": "zmyJDNsNF3Q3"
      },
      "execution_count": 196,
      "outputs": []
    },
    {
      "cell_type": "code",
      "source": [
        "x_reshaped"
      ],
      "metadata": {
        "colab": {
          "base_uri": "https://localhost:8080/"
        },
        "id": "sdC9b_FVGAjO",
        "outputId": "19ca214b-118f-4a9c-db08-2593dbcf3017"
      },
      "execution_count": 197,
      "outputs": [
        {
          "output_type": "execute_result",
          "data": {
            "text/plain": [
              "tensor([[ 1,  2,  3,  4,  5,  6,  7,  8,  9, 10]])"
            ]
          },
          "metadata": {},
          "execution_count": 197
        }
      ]
    },
    {
      "cell_type": "code",
      "source": [
        "z = x.view(5,2)"
      ],
      "metadata": {
        "id": "NHkmKtn3GBeb"
      },
      "execution_count": 198,
      "outputs": []
    },
    {
      "cell_type": "code",
      "source": [
        "z"
      ],
      "metadata": {
        "colab": {
          "base_uri": "https://localhost:8080/"
        },
        "id": "T9Jiz9t9G-Jp",
        "outputId": "809d36c0-2291-4cc3-b29b-1a9783d6b147"
      },
      "execution_count": 199,
      "outputs": [
        {
          "output_type": "execute_result",
          "data": {
            "text/plain": [
              "tensor([[ 1,  2],\n",
              "        [ 3,  4],\n",
              "        [ 5,  6],\n",
              "        [ 7,  8],\n",
              "        [ 9, 10]])"
            ]
          },
          "metadata": {},
          "execution_count": 199
        }
      ]
    },
    {
      "cell_type": "code",
      "source": [
        "z[0,0] = 5"
      ],
      "metadata": {
        "id": "AC3etbzuG-kw"
      },
      "execution_count": 200,
      "outputs": []
    },
    {
      "cell_type": "code",
      "source": [
        "z"
      ],
      "metadata": {
        "colab": {
          "base_uri": "https://localhost:8080/"
        },
        "id": "oxWYM59mHHh8",
        "outputId": "4c0cfb38-0273-427d-8956-fffe15feea61"
      },
      "execution_count": 201,
      "outputs": [
        {
          "output_type": "execute_result",
          "data": {
            "text/plain": [
              "tensor([[ 5,  2],\n",
              "        [ 3,  4],\n",
              "        [ 5,  6],\n",
              "        [ 7,  8],\n",
              "        [ 9, 10]])"
            ]
          },
          "metadata": {},
          "execution_count": 201
        }
      ]
    },
    {
      "cell_type": "code",
      "source": [
        "x"
      ],
      "metadata": {
        "colab": {
          "base_uri": "https://localhost:8080/"
        },
        "id": "R4DRZKxPHIpc",
        "outputId": "4f4d1cfd-f193-4466-be5e-c18dcc7a1830"
      },
      "execution_count": 202,
      "outputs": [
        {
          "output_type": "execute_result",
          "data": {
            "text/plain": [
              "tensor([ 5,  2,  3,  4,  5,  6,  7,  8,  9, 10])"
            ]
          },
          "metadata": {},
          "execution_count": 202
        }
      ]
    },
    {
      "cell_type": "code",
      "source": [
        "x_stacked = torch.stack([x,x,x], 0)"
      ],
      "metadata": {
        "id": "XrvhtV5cHKP3"
      },
      "execution_count": 203,
      "outputs": []
    },
    {
      "cell_type": "code",
      "source": [
        "x_stacked"
      ],
      "metadata": {
        "colab": {
          "base_uri": "https://localhost:8080/"
        },
        "id": "uBKiXtMPHXCC",
        "outputId": "337acc79-858c-4439-8750-bd798b544072"
      },
      "execution_count": 204,
      "outputs": [
        {
          "output_type": "execute_result",
          "data": {
            "text/plain": [
              "tensor([[ 5,  2,  3,  4,  5,  6,  7,  8,  9, 10],\n",
              "        [ 5,  2,  3,  4,  5,  6,  7,  8,  9, 10],\n",
              "        [ 5,  2,  3,  4,  5,  6,  7,  8,  9, 10]])"
            ]
          },
          "metadata": {},
          "execution_count": 204
        }
      ]
    },
    {
      "cell_type": "code",
      "source": [
        "x_squeezed = torch.squeeze(x_stacked)"
      ],
      "metadata": {
        "id": "L-Y7XSlHHgX3"
      },
      "execution_count": 205,
      "outputs": []
    },
    {
      "cell_type": "code",
      "source": [
        "x_squeezed"
      ],
      "metadata": {
        "colab": {
          "base_uri": "https://localhost:8080/"
        },
        "id": "a5SeKh8uH-2h",
        "outputId": "fee4d19c-ca08-4d0e-bd86-3c56e4550770"
      },
      "execution_count": 206,
      "outputs": [
        {
          "output_type": "execute_result",
          "data": {
            "text/plain": [
              "tensor([[ 5,  2,  3,  4,  5,  6,  7,  8,  9, 10],\n",
              "        [ 5,  2,  3,  4,  5,  6,  7,  8,  9, 10],\n",
              "        [ 5,  2,  3,  4,  5,  6,  7,  8,  9, 10]])"
            ]
          },
          "metadata": {},
          "execution_count": 206
        }
      ]
    },
    {
      "cell_type": "code",
      "source": [
        "x_reshaped.squeeze()"
      ],
      "metadata": {
        "colab": {
          "base_uri": "https://localhost:8080/"
        },
        "id": "Yn7rAA0SIAFA",
        "outputId": "2f6a9655-8d06-4b55-df8f-18a194456be7"
      },
      "execution_count": 207,
      "outputs": [
        {
          "output_type": "execute_result",
          "data": {
            "text/plain": [
              "tensor([ 5,  2,  3,  4,  5,  6,  7,  8,  9, 10])"
            ]
          },
          "metadata": {},
          "execution_count": 207
        }
      ]
    },
    {
      "cell_type": "code",
      "source": [
        "squeezed = x_reshaped.squeeze()"
      ],
      "metadata": {
        "id": "HfSkmNa8ISgy"
      },
      "execution_count": 208,
      "outputs": []
    },
    {
      "cell_type": "code",
      "source": [
        "unsqueezed = squeezed.unsqueeze(1)"
      ],
      "metadata": {
        "id": "d47M2u11Ieih"
      },
      "execution_count": 209,
      "outputs": []
    },
    {
      "cell_type": "code",
      "source": [
        "squeezed.shape"
      ],
      "metadata": {
        "colab": {
          "base_uri": "https://localhost:8080/"
        },
        "id": "mqQAxz_NIqDJ",
        "outputId": "0116f03b-f672-47a7-8386-1a569da576b2"
      },
      "execution_count": 210,
      "outputs": [
        {
          "output_type": "execute_result",
          "data": {
            "text/plain": [
              "torch.Size([10])"
            ]
          },
          "metadata": {},
          "execution_count": 210
        }
      ]
    },
    {
      "cell_type": "code",
      "source": [
        "unsqueezed.shape"
      ],
      "metadata": {
        "colab": {
          "base_uri": "https://localhost:8080/"
        },
        "id": "SnuFiLNYI8ao",
        "outputId": "793bf53a-42f4-4a9c-f9a9-81bb5362e47f"
      },
      "execution_count": 211,
      "outputs": [
        {
          "output_type": "execute_result",
          "data": {
            "text/plain": [
              "torch.Size([10, 1])"
            ]
          },
          "metadata": {},
          "execution_count": 211
        }
      ]
    },
    {
      "cell_type": "code",
      "source": [
        "r = torch.rand((200,200,2))"
      ],
      "metadata": {
        "id": "cZsukBXwI918"
      },
      "execution_count": 212,
      "outputs": []
    },
    {
      "cell_type": "code",
      "source": [
        "r"
      ],
      "metadata": {
        "colab": {
          "base_uri": "https://localhost:8080/"
        },
        "id": "hFfWWVp_JTDs",
        "outputId": "d8206dd5-4004-4212-fb0a-d08f81b63390"
      },
      "execution_count": 213,
      "outputs": [
        {
          "output_type": "execute_result",
          "data": {
            "text/plain": [
              "tensor([[[0.6826, 0.3743],\n",
              "         [0.5220, 0.1336],\n",
              "         [0.9666, 0.9754],\n",
              "         ...,\n",
              "         [0.4285, 0.9068],\n",
              "         [0.6739, 0.1857],\n",
              "         [0.0013, 0.6637]],\n",
              "\n",
              "        [[0.3250, 0.2551],\n",
              "         [0.9134, 0.9205],\n",
              "         [0.0640, 0.2996],\n",
              "         ...,\n",
              "         [0.7882, 0.4899],\n",
              "         [0.9927, 0.4824],\n",
              "         [0.1632, 0.4668]],\n",
              "\n",
              "        [[0.1680, 0.1675],\n",
              "         [0.2904, 0.8599],\n",
              "         [0.0591, 0.2345],\n",
              "         ...,\n",
              "         [0.3739, 0.5301],\n",
              "         [0.6987, 0.7448],\n",
              "         [0.7439, 0.8754]],\n",
              "\n",
              "        ...,\n",
              "\n",
              "        [[0.3864, 0.3203],\n",
              "         [0.7865, 0.7787],\n",
              "         [0.6708, 0.3435],\n",
              "         ...,\n",
              "         [0.7331, 0.8287],\n",
              "         [0.9643, 0.6978],\n",
              "         [0.2888, 0.1321]],\n",
              "\n",
              "        [[0.4624, 0.4151],\n",
              "         [0.3553, 0.7087],\n",
              "         [0.3719, 0.4977],\n",
              "         ...,\n",
              "         [0.7232, 0.6965],\n",
              "         [0.8195, 0.5329],\n",
              "         [0.6900, 0.5125]],\n",
              "\n",
              "        [[0.7060, 0.5247],\n",
              "         [0.0304, 0.0396],\n",
              "         [0.3892, 0.3531],\n",
              "         ...,\n",
              "         [0.1579, 0.9272],\n",
              "         [0.6130, 0.0421],\n",
              "         [0.5328, 0.7896]]])"
            ]
          },
          "metadata": {},
          "execution_count": 213
        }
      ]
    },
    {
      "cell_type": "code",
      "source": [
        "r_new = torch.permute(r,(2,1,0))"
      ],
      "metadata": {
        "id": "9l3qQ2HaJTcZ"
      },
      "execution_count": 214,
      "outputs": []
    },
    {
      "cell_type": "code",
      "source": [
        "r_new"
      ],
      "metadata": {
        "colab": {
          "base_uri": "https://localhost:8080/"
        },
        "id": "W8jqKdqFJZd6",
        "outputId": "e538372a-063e-4fa3-8345-06a77150e53e"
      },
      "execution_count": 215,
      "outputs": [
        {
          "output_type": "execute_result",
          "data": {
            "text/plain": [
              "tensor([[[0.6826, 0.3250, 0.1680,  ..., 0.3864, 0.4624, 0.7060],\n",
              "         [0.5220, 0.9134, 0.2904,  ..., 0.7865, 0.3553, 0.0304],\n",
              "         [0.9666, 0.0640, 0.0591,  ..., 0.6708, 0.3719, 0.3892],\n",
              "         ...,\n",
              "         [0.4285, 0.7882, 0.3739,  ..., 0.7331, 0.7232, 0.1579],\n",
              "         [0.6739, 0.9927, 0.6987,  ..., 0.9643, 0.8195, 0.6130],\n",
              "         [0.0013, 0.1632, 0.7439,  ..., 0.2888, 0.6900, 0.5328]],\n",
              "\n",
              "        [[0.3743, 0.2551, 0.1675,  ..., 0.3203, 0.4151, 0.5247],\n",
              "         [0.1336, 0.9205, 0.8599,  ..., 0.7787, 0.7087, 0.0396],\n",
              "         [0.9754, 0.2996, 0.2345,  ..., 0.3435, 0.4977, 0.3531],\n",
              "         ...,\n",
              "         [0.9068, 0.4899, 0.5301,  ..., 0.8287, 0.6965, 0.9272],\n",
              "         [0.1857, 0.4824, 0.7448,  ..., 0.6978, 0.5329, 0.0421],\n",
              "         [0.6637, 0.4668, 0.8754,  ..., 0.1321, 0.5125, 0.7896]]])"
            ]
          },
          "metadata": {},
          "execution_count": 215
        }
      ]
    },
    {
      "cell_type": "code",
      "source": [
        "r.shape"
      ],
      "metadata": {
        "colab": {
          "base_uri": "https://localhost:8080/"
        },
        "id": "MJjj91kEJaT3",
        "outputId": "ae8b608a-ed2b-47f3-b911-4dec1b1415f9"
      },
      "execution_count": 216,
      "outputs": [
        {
          "output_type": "execute_result",
          "data": {
            "text/plain": [
              "torch.Size([200, 200, 2])"
            ]
          },
          "metadata": {},
          "execution_count": 216
        }
      ]
    },
    {
      "cell_type": "code",
      "source": [
        "r_new.shape"
      ],
      "metadata": {
        "colab": {
          "base_uri": "https://localhost:8080/"
        },
        "id": "ZZibSOXMJqne",
        "outputId": "8c07e687-ad08-4756-e30b-57cfa8297c31"
      },
      "execution_count": 217,
      "outputs": [
        {
          "output_type": "execute_result",
          "data": {
            "text/plain": [
              "torch.Size([2, 200, 200])"
            ]
          },
          "metadata": {},
          "execution_count": 217
        }
      ]
    },
    {
      "cell_type": "code",
      "source": [
        "r[0,0,0] = 100"
      ],
      "metadata": {
        "id": "sGY1HFj1Jsal"
      },
      "execution_count": 218,
      "outputs": []
    },
    {
      "cell_type": "code",
      "source": [
        "r"
      ],
      "metadata": {
        "id": "epBg0_ocJy0h",
        "outputId": "40c677bc-434b-4266-fd8c-5f9b7a308b73",
        "colab": {
          "base_uri": "https://localhost:8080/"
        }
      },
      "execution_count": 219,
      "outputs": [
        {
          "output_type": "execute_result",
          "data": {
            "text/plain": [
              "tensor([[[1.0000e+02, 3.7433e-01],\n",
              "         [5.2202e-01, 1.3361e-01],\n",
              "         [9.6661e-01, 9.7540e-01],\n",
              "         ...,\n",
              "         [4.2850e-01, 9.0679e-01],\n",
              "         [6.7390e-01, 1.8571e-01],\n",
              "         [1.3046e-03, 6.6374e-01]],\n",
              "\n",
              "        [[3.2497e-01, 2.5506e-01],\n",
              "         [9.1337e-01, 9.2054e-01],\n",
              "         [6.3961e-02, 2.9958e-01],\n",
              "         ...,\n",
              "         [7.8817e-01, 4.8989e-01],\n",
              "         [9.9271e-01, 4.8240e-01],\n",
              "         [1.6316e-01, 4.6683e-01]],\n",
              "\n",
              "        [[1.6805e-01, 1.6745e-01],\n",
              "         [2.9038e-01, 8.5987e-01],\n",
              "         [5.9062e-02, 2.3446e-01],\n",
              "         ...,\n",
              "         [3.7391e-01, 5.3014e-01],\n",
              "         [6.9870e-01, 7.4476e-01],\n",
              "         [7.4391e-01, 8.7540e-01]],\n",
              "\n",
              "        ...,\n",
              "\n",
              "        [[3.8643e-01, 3.2030e-01],\n",
              "         [7.8653e-01, 7.7874e-01],\n",
              "         [6.7077e-01, 3.4349e-01],\n",
              "         ...,\n",
              "         [7.3313e-01, 8.2868e-01],\n",
              "         [9.6435e-01, 6.9784e-01],\n",
              "         [2.8880e-01, 1.3214e-01]],\n",
              "\n",
              "        [[4.6244e-01, 4.1510e-01],\n",
              "         [3.5530e-01, 7.0874e-01],\n",
              "         [3.7188e-01, 4.9771e-01],\n",
              "         ...,\n",
              "         [7.2321e-01, 6.9653e-01],\n",
              "         [8.1951e-01, 5.3286e-01],\n",
              "         [6.8996e-01, 5.1248e-01]],\n",
              "\n",
              "        [[7.0601e-01, 5.2465e-01],\n",
              "         [3.0399e-02, 3.9578e-02],\n",
              "         [3.8925e-01, 3.5306e-01],\n",
              "         ...,\n",
              "         [1.5785e-01, 9.2717e-01],\n",
              "         [6.1301e-01, 4.2107e-02],\n",
              "         [5.3280e-01, 7.8965e-01]]])"
            ]
          },
          "metadata": {},
          "execution_count": 219
        }
      ]
    },
    {
      "cell_type": "code",
      "source": [
        "r_new"
      ],
      "metadata": {
        "id": "RsWpRtgoJzRk",
        "outputId": "d76fdc78-58af-4ea6-f8e9-6aa668330c53",
        "colab": {
          "base_uri": "https://localhost:8080/"
        }
      },
      "execution_count": 220,
      "outputs": [
        {
          "output_type": "execute_result",
          "data": {
            "text/plain": [
              "tensor([[[1.0000e+02, 3.2497e-01, 1.6805e-01,  ..., 3.8643e-01,\n",
              "          4.6244e-01, 7.0601e-01],\n",
              "         [5.2202e-01, 9.1337e-01, 2.9038e-01,  ..., 7.8653e-01,\n",
              "          3.5530e-01, 3.0399e-02],\n",
              "         [9.6661e-01, 6.3961e-02, 5.9062e-02,  ..., 6.7077e-01,\n",
              "          3.7188e-01, 3.8925e-01],\n",
              "         ...,\n",
              "         [4.2850e-01, 7.8817e-01, 3.7391e-01,  ..., 7.3313e-01,\n",
              "          7.2321e-01, 1.5785e-01],\n",
              "         [6.7390e-01, 9.9271e-01, 6.9870e-01,  ..., 9.6435e-01,\n",
              "          8.1951e-01, 6.1301e-01],\n",
              "         [1.3046e-03, 1.6316e-01, 7.4391e-01,  ..., 2.8880e-01,\n",
              "          6.8996e-01, 5.3280e-01]],\n",
              "\n",
              "        [[3.7433e-01, 2.5506e-01, 1.6745e-01,  ..., 3.2030e-01,\n",
              "          4.1510e-01, 5.2465e-01],\n",
              "         [1.3361e-01, 9.2054e-01, 8.5987e-01,  ..., 7.7874e-01,\n",
              "          7.0874e-01, 3.9578e-02],\n",
              "         [9.7540e-01, 2.9958e-01, 2.3446e-01,  ..., 3.4349e-01,\n",
              "          4.9771e-01, 3.5306e-01],\n",
              "         ...,\n",
              "         [9.0679e-01, 4.8989e-01, 5.3014e-01,  ..., 8.2868e-01,\n",
              "          6.9653e-01, 9.2717e-01],\n",
              "         [1.8571e-01, 4.8240e-01, 7.4476e-01,  ..., 6.9784e-01,\n",
              "          5.3286e-01, 4.2107e-02],\n",
              "         [6.6374e-01, 4.6683e-01, 8.7540e-01,  ..., 1.3214e-01,\n",
              "          5.1248e-01, 7.8965e-01]]])"
            ]
          },
          "metadata": {},
          "execution_count": 220
        }
      ]
    },
    {
      "cell_type": "code",
      "source": [
        "tens = torch.arange(1,10).reshape(1,3,3)"
      ],
      "metadata": {
        "id": "R6qN3_U-J0T9"
      },
      "execution_count": 221,
      "outputs": []
    },
    {
      "cell_type": "code",
      "source": [
        "tens"
      ],
      "metadata": {
        "colab": {
          "base_uri": "https://localhost:8080/"
        },
        "id": "MHGfpW0LQpkI",
        "outputId": "9714d326-906e-47cb-aece-b45708e929ad"
      },
      "execution_count": 222,
      "outputs": [
        {
          "output_type": "execute_result",
          "data": {
            "text/plain": [
              "tensor([[[1, 2, 3],\n",
              "         [4, 5, 6],\n",
              "         [7, 8, 9]]])"
            ]
          },
          "metadata": {},
          "execution_count": 222
        }
      ]
    },
    {
      "cell_type": "code",
      "source": [
        "tens.shape"
      ],
      "metadata": {
        "colab": {
          "base_uri": "https://localhost:8080/"
        },
        "id": "OhdX2rviQqLE",
        "outputId": "722c2540-d97c-4f87-89b9-b868138406af"
      },
      "execution_count": 223,
      "outputs": [
        {
          "output_type": "execute_result",
          "data": {
            "text/plain": [
              "torch.Size([1, 3, 3])"
            ]
          },
          "metadata": {},
          "execution_count": 223
        }
      ]
    },
    {
      "cell_type": "code",
      "source": [
        "#indexing\n",
        "tens[0]"
      ],
      "metadata": {
        "colab": {
          "base_uri": "https://localhost:8080/"
        },
        "id": "_uUwULrgQr_3",
        "outputId": "86c2564f-6846-41db-ae15-dc5e61956494"
      },
      "execution_count": 224,
      "outputs": [
        {
          "output_type": "execute_result",
          "data": {
            "text/plain": [
              "tensor([[1, 2, 3],\n",
              "        [4, 5, 6],\n",
              "        [7, 8, 9]])"
            ]
          },
          "metadata": {},
          "execution_count": 224
        }
      ]
    },
    {
      "cell_type": "code",
      "source": [
        "tens[0][0]"
      ],
      "metadata": {
        "colab": {
          "base_uri": "https://localhost:8080/"
        },
        "id": "OiBxvJtNQ3by",
        "outputId": "ebae3275-9d3f-4640-c34a-cc71cec618ad"
      },
      "execution_count": 225,
      "outputs": [
        {
          "output_type": "execute_result",
          "data": {
            "text/plain": [
              "tensor([1, 2, 3])"
            ]
          },
          "metadata": {},
          "execution_count": 225
        }
      ]
    },
    {
      "cell_type": "code",
      "source": [
        "tens[0,0]"
      ],
      "metadata": {
        "colab": {
          "base_uri": "https://localhost:8080/"
        },
        "id": "3wvnfZ_DQ-K4",
        "outputId": "4a0b9b81-799c-4301-86e8-7510061e83f6"
      },
      "execution_count": 226,
      "outputs": [
        {
          "output_type": "execute_result",
          "data": {
            "text/plain": [
              "tensor([1, 2, 3])"
            ]
          },
          "metadata": {},
          "execution_count": 226
        }
      ]
    },
    {
      "cell_type": "code",
      "source": [
        "tens[0,0,0]"
      ],
      "metadata": {
        "colab": {
          "base_uri": "https://localhost:8080/"
        },
        "id": "C5SWLy0sRBTt",
        "outputId": "23b44257-aae8-408c-dde9-1f06a82124f6"
      },
      "execution_count": 227,
      "outputs": [
        {
          "output_type": "execute_result",
          "data": {
            "text/plain": [
              "tensor(1)"
            ]
          },
          "metadata": {},
          "execution_count": 227
        }
      ]
    },
    {
      "cell_type": "markdown",
      "source": [
        "##Pytorch tensors and numpy"
      ],
      "metadata": {
        "id": "YgBxIRlIRpFV"
      }
    },
    {
      "cell_type": "code",
      "source": [
        "#np array to tensor"
      ],
      "metadata": {
        "id": "Ywzblo5JRg1q"
      },
      "execution_count": 228,
      "outputs": []
    },
    {
      "cell_type": "code",
      "source": [
        "array = np.arange(1.0,8.0)"
      ],
      "metadata": {
        "id": "-6MWpBtmR2tf"
      },
      "execution_count": 229,
      "outputs": []
    },
    {
      "cell_type": "code",
      "source": [
        "tensor = torch.from_numpy(array)\n",
        "tensor"
      ],
      "metadata": {
        "colab": {
          "base_uri": "https://localhost:8080/"
        },
        "id": "_inRbZhbR8YF",
        "outputId": "7dd230bb-bee1-43c2-f9f5-fa82bab3151f"
      },
      "execution_count": 230,
      "outputs": [
        {
          "output_type": "execute_result",
          "data": {
            "text/plain": [
              "tensor([1., 2., 3., 4., 5., 6., 7.], dtype=torch.float64)"
            ]
          },
          "metadata": {},
          "execution_count": 230
        }
      ]
    },
    {
      "cell_type": "code",
      "source": [
        "array"
      ],
      "metadata": {
        "colab": {
          "base_uri": "https://localhost:8080/"
        },
        "id": "1Y3QfkWYSCMI",
        "outputId": "79b1bbe4-e1dc-4968-bfc3-13ff67624b5a"
      },
      "execution_count": 231,
      "outputs": [
        {
          "output_type": "execute_result",
          "data": {
            "text/plain": [
              "array([1., 2., 3., 4., 5., 6., 7.])"
            ]
          },
          "metadata": {},
          "execution_count": 231
        }
      ]
    },
    {
      "cell_type": "code",
      "source": [
        "array.dtype"
      ],
      "metadata": {
        "colab": {
          "base_uri": "https://localhost:8080/"
        },
        "id": "1s7u_QY8SD-A",
        "outputId": "67468491-692a-4c8c-b465-4ad65f7b341d"
      },
      "execution_count": 232,
      "outputs": [
        {
          "output_type": "execute_result",
          "data": {
            "text/plain": [
              "dtype('float64')"
            ]
          },
          "metadata": {},
          "execution_count": 232
        }
      ]
    },
    {
      "cell_type": "code",
      "source": [
        "tensor.dtype"
      ],
      "metadata": {
        "colab": {
          "base_uri": "https://localhost:8080/"
        },
        "id": "txClF4R2SF6o",
        "outputId": "701cf8ab-b296-4e71-eaf7-3bb166a46993"
      },
      "execution_count": 233,
      "outputs": [
        {
          "output_type": "execute_result",
          "data": {
            "text/plain": [
              "torch.float64"
            ]
          },
          "metadata": {},
          "execution_count": 233
        }
      ]
    },
    {
      "cell_type": "code",
      "source": [
        "#tensor to np"
      ],
      "metadata": {
        "id": "yQhFzHiwSMw3"
      },
      "execution_count": 234,
      "outputs": []
    },
    {
      "cell_type": "code",
      "source": [
        "tensor = torch.ones(10)"
      ],
      "metadata": {
        "id": "4JOSxljES0YP"
      },
      "execution_count": 235,
      "outputs": []
    },
    {
      "cell_type": "code",
      "source": [
        "tensor"
      ],
      "metadata": {
        "colab": {
          "base_uri": "https://localhost:8080/"
        },
        "id": "oYS_e2MqS2t1",
        "outputId": "b9dbfd42-14bc-459b-b8ba-887b8f490fc8"
      },
      "execution_count": 236,
      "outputs": [
        {
          "output_type": "execute_result",
          "data": {
            "text/plain": [
              "tensor([1., 1., 1., 1., 1., 1., 1., 1., 1., 1.])"
            ]
          },
          "metadata": {},
          "execution_count": 236
        }
      ]
    },
    {
      "cell_type": "code",
      "source": [
        "tensor.dtype"
      ],
      "metadata": {
        "colab": {
          "base_uri": "https://localhost:8080/"
        },
        "id": "ilk7K1UoS3XC",
        "outputId": "33e2c3ad-c417-4793-962b-f112ce31dfb5"
      },
      "execution_count": 237,
      "outputs": [
        {
          "output_type": "execute_result",
          "data": {
            "text/plain": [
              "torch.float32"
            ]
          },
          "metadata": {},
          "execution_count": 237
        }
      ]
    },
    {
      "cell_type": "code",
      "source": [
        "np_tensor = tensor.numpy()"
      ],
      "metadata": {
        "id": "MOktkA_HS5h3"
      },
      "execution_count": 238,
      "outputs": []
    },
    {
      "cell_type": "code",
      "source": [
        "np_tensor"
      ],
      "metadata": {
        "colab": {
          "base_uri": "https://localhost:8080/"
        },
        "id": "rmV5_8kCTBQ5",
        "outputId": "2634197e-74ad-41f9-fa1d-063cbebb6a5c"
      },
      "execution_count": 239,
      "outputs": [
        {
          "output_type": "execute_result",
          "data": {
            "text/plain": [
              "array([1., 1., 1., 1., 1., 1., 1., 1., 1., 1.], dtype=float32)"
            ]
          },
          "metadata": {},
          "execution_count": 239
        }
      ]
    },
    {
      "cell_type": "markdown",
      "source": [
        "###Reproducability\n",
        "\n",
        "##no more random values in same environment\n",
        "neural network starts with random numbers ->\n",
        "performs tensor operations -> updates numbers -> repeat\n",
        "\n",
        "##To reduce randomness in nn and pytorch, the concept of **random seed** comes into play\n",
        "##What it does is 'flavour' the randomness"
      ],
      "metadata": {
        "id": "9s6h26NmTwoa"
      }
    },
    {
      "cell_type": "code",
      "source": [
        "random_a = torch.rand(2,2)\n",
        "random_b = torch.rand(2,2)"
      ],
      "metadata": {
        "id": "dxyViD2oUNfE"
      },
      "execution_count": 240,
      "outputs": []
    },
    {
      "cell_type": "code",
      "source": [
        "random_a"
      ],
      "metadata": {
        "colab": {
          "base_uri": "https://localhost:8080/"
        },
        "id": "zGP_n6ZBU2dY",
        "outputId": "ec33ba81-39e8-4a03-8491-c831ebf723c3"
      },
      "execution_count": 241,
      "outputs": [
        {
          "output_type": "execute_result",
          "data": {
            "text/plain": [
              "tensor([[0.3142, 0.7245],\n",
              "        [0.6082, 0.9234]])"
            ]
          },
          "metadata": {},
          "execution_count": 241
        }
      ]
    },
    {
      "cell_type": "code",
      "source": [
        "random_b"
      ],
      "metadata": {
        "colab": {
          "base_uri": "https://localhost:8080/"
        },
        "id": "MTYYnB-VU4wu",
        "outputId": "98886c71-1b41-4d0b-8df7-1d910288a31d"
      },
      "execution_count": 242,
      "outputs": [
        {
          "output_type": "execute_result",
          "data": {
            "text/plain": [
              "tensor([[0.0603, 0.7355],\n",
              "        [0.3410, 0.7321]])"
            ]
          },
          "metadata": {},
          "execution_count": 242
        }
      ]
    },
    {
      "cell_type": "code",
      "source": [
        "random_a == random_b"
      ],
      "metadata": {
        "colab": {
          "base_uri": "https://localhost:8080/"
        },
        "id": "y_HD8V-KU7Kl",
        "outputId": "590f9b59-e2f4-45a2-e916-46668f37b840"
      },
      "execution_count": 243,
      "outputs": [
        {
          "output_type": "execute_result",
          "data": {
            "text/plain": [
              "tensor([[False, False],\n",
              "        [False, False]])"
            ]
          },
          "metadata": {},
          "execution_count": 243
        }
      ]
    },
    {
      "cell_type": "code",
      "source": [
        "#Making random but reproducable tensors"
      ],
      "metadata": {
        "id": "dX9LogwLVADO"
      },
      "execution_count": 244,
      "outputs": []
    },
    {
      "cell_type": "code",
      "source": [
        "import torch\n",
        "randm_seed = 42\n"
      ],
      "metadata": {
        "id": "2Sbq66p7V_eH"
      },
      "execution_count": 245,
      "outputs": []
    },
    {
      "cell_type": "code",
      "source": [
        "torch.manual_seed(randm_seed)\n",
        "random_c = torch.rand(3,4)\n",
        "torch.manual_seed(randm_seed)\n",
        "random_d = torch.rand(3,4)\n",
        "\n",
        "print(random_c)\n",
        "print(random_d)\n",
        "print(random_c == random_d)"
      ],
      "metadata": {
        "colab": {
          "base_uri": "https://localhost:8080/"
        },
        "id": "9raVqA0MWBJV",
        "outputId": "68dddd3a-5a2d-47e9-b396-e581d5cff5e5"
      },
      "execution_count": 246,
      "outputs": [
        {
          "output_type": "stream",
          "name": "stdout",
          "text": [
            "tensor([[0.8823, 0.9150, 0.3829, 0.9593],\n",
            "        [0.3904, 0.6009, 0.2566, 0.7936],\n",
            "        [0.9408, 0.1332, 0.9346, 0.5936]])\n",
            "tensor([[0.8823, 0.9150, 0.3829, 0.9593],\n",
            "        [0.3904, 0.6009, 0.2566, 0.7936],\n",
            "        [0.9408, 0.1332, 0.9346, 0.5936]])\n",
            "tensor([[True, True, True, True],\n",
            "        [True, True, True, True],\n",
            "        [True, True, True, True]])\n"
          ]
        }
      ]
    },
    {
      "cell_type": "markdown",
      "source": [
        "##If we call the random seed before each random call, the random calls give same values as shown above\n",
        "\n",
        "the seed affects the next line of code"
      ],
      "metadata": {
        "id": "9YNhn0rGWs0w"
      }
    },
    {
      "cell_type": "markdown",
      "source": [
        "###Running tensors and pytorch objects on GPU's for faster computation\n",
        "\n",
        "##GPY = faster computation on numbers\n",
        "\n",
        "#CUDA, NVIDIA, PyTorch"
      ],
      "metadata": {
        "id": "ghENxAGXXrP7"
      }
    },
    {
      "cell_type": "code",
      "source": [
        "!nvidia-smi"
      ],
      "metadata": {
        "colab": {
          "base_uri": "https://localhost:8080/"
        },
        "id": "a5PVlDEpX3Kq",
        "outputId": "b4af0cf3-4321-4510-86e1-fc4900c45952"
      },
      "execution_count": 247,
      "outputs": [
        {
          "output_type": "stream",
          "name": "stdout",
          "text": [
            "Sat Feb  1 22:07:29 2025       \n",
            "+-----------------------------------------------------------------------------------------+\n",
            "| NVIDIA-SMI 550.54.15              Driver Version: 550.54.15      CUDA Version: 12.4     |\n",
            "|-----------------------------------------+------------------------+----------------------+\n",
            "| GPU  Name                 Persistence-M | Bus-Id          Disp.A | Volatile Uncorr. ECC |\n",
            "| Fan  Temp   Perf          Pwr:Usage/Cap |           Memory-Usage | GPU-Util  Compute M. |\n",
            "|                                         |                        |               MIG M. |\n",
            "|=========================================+========================+======================|\n",
            "|   0  Tesla T4                       Off |   00000000:00:04.0 Off |                    0 |\n",
            "| N/A   60C    P0             27W /   70W |     120MiB /  15360MiB |      0%      Default |\n",
            "|                                         |                        |                  N/A |\n",
            "+-----------------------------------------+------------------------+----------------------+\n",
            "                                                                                         \n",
            "+-----------------------------------------------------------------------------------------+\n",
            "| Processes:                                                                              |\n",
            "|  GPU   GI   CI        PID   Type   Process name                              GPU Memory |\n",
            "|        ID   ID                                                               Usage      |\n",
            "|=========================================================================================|\n",
            "+-----------------------------------------------------------------------------------------+\n"
          ]
        }
      ]
    },
    {
      "cell_type": "code",
      "source": [
        "#Check GPU access by PyTorch\n",
        "\n",
        "torch.cuda.is_available()"
      ],
      "metadata": {
        "colab": {
          "base_uri": "https://localhost:8080/"
        },
        "id": "UVP9wnWyZJWU",
        "outputId": "f213cc3d-7f97-4847-ee4e-295d935aa9a5"
      },
      "execution_count": 248,
      "outputs": [
        {
          "output_type": "execute_result",
          "data": {
            "text/plain": [
              "True"
            ]
          },
          "metadata": {},
          "execution_count": 248
        }
      ]
    },
    {
      "cell_type": "code",
      "source": [
        "device = \"cuda\" if torch.cuda.is_available() else \"cpu\""
      ],
      "metadata": {
        "id": "L3_2h9ixZyYR"
      },
      "execution_count": 249,
      "outputs": []
    },
    {
      "cell_type": "code",
      "source": [
        "device"
      ],
      "metadata": {
        "colab": {
          "base_uri": "https://localhost:8080/",
          "height": 35
        },
        "id": "30YIjXEOZ_LN",
        "outputId": "69bb5941-175f-4194-cabe-2d2119d78262"
      },
      "execution_count": 250,
      "outputs": [
        {
          "output_type": "execute_result",
          "data": {
            "text/plain": [
              "'cuda'"
            ],
            "application/vnd.google.colaboratory.intrinsic+json": {
              "type": "string"
            }
          },
          "metadata": {},
          "execution_count": 250
        }
      ]
    },
    {
      "cell_type": "code",
      "source": [
        "#Count number of GPU's"
      ],
      "metadata": {
        "id": "sfa5vWMYaEq5"
      },
      "execution_count": 251,
      "outputs": []
    },
    {
      "cell_type": "code",
      "source": [
        "torch.cuda.device_count()"
      ],
      "metadata": {
        "colab": {
          "base_uri": "https://localhost:8080/"
        },
        "id": "KGn-UZ7vaJo_",
        "outputId": "2d28e4d4-954b-49ce-fe0a-46876dc7cd81"
      },
      "execution_count": 252,
      "outputs": [
        {
          "output_type": "execute_result",
          "data": {
            "text/plain": [
              "1"
            ]
          },
          "metadata": {},
          "execution_count": 252
        }
      ]
    },
    {
      "cell_type": "code",
      "source": [
        "#How to actually use GPU\n",
        "#put tensors and models on GPU"
      ],
      "metadata": {
        "id": "LWEHZpFmaNez"
      },
      "execution_count": 253,
      "outputs": []
    },
    {
      "cell_type": "code",
      "source": [
        "print(tensor, tensor.device)"
      ],
      "metadata": {
        "colab": {
          "base_uri": "https://localhost:8080/"
        },
        "id": "E9-HtnVPieiE",
        "outputId": "a1d84ce4-7cd5-4e8d-aba1-3da0984bed28"
      },
      "execution_count": 254,
      "outputs": [
        {
          "output_type": "stream",
          "name": "stdout",
          "text": [
            "tensor([1., 1., 1., 1., 1., 1., 1., 1., 1., 1.]) cpu\n"
          ]
        }
      ]
    },
    {
      "cell_type": "code",
      "source": [
        "#move tensor to GPU if available"
      ],
      "metadata": {
        "id": "PoG0pY9gihJk"
      },
      "execution_count": 255,
      "outputs": []
    },
    {
      "cell_type": "code",
      "source": [
        "tensor_on_gpy = tensor.to(device)\n",
        "tensor_on_gpy"
      ],
      "metadata": {
        "colab": {
          "base_uri": "https://localhost:8080/"
        },
        "id": "BEXa-cp8iufG",
        "outputId": "17cae827-1824-4c37-f24e-48e4155c8b42"
      },
      "execution_count": 256,
      "outputs": [
        {
          "output_type": "execute_result",
          "data": {
            "text/plain": [
              "tensor([1., 1., 1., 1., 1., 1., 1., 1., 1., 1.], device='cuda:0')"
            ]
          },
          "metadata": {},
          "execution_count": 256
        }
      ]
    },
    {
      "cell_type": "code",
      "source": [
        "#move tensors back to cpu\n",
        "\n"
      ],
      "metadata": {
        "id": "sNQ-juCYi1VU"
      },
      "execution_count": 257,
      "outputs": []
    },
    {
      "cell_type": "code",
      "source": [
        "tensor_cpu = tensor_on_gpy.to(\"cpu\")"
      ],
      "metadata": {
        "id": "x_MuyYmSjJ45"
      },
      "execution_count": 258,
      "outputs": []
    },
    {
      "cell_type": "code",
      "source": [
        "tensor_cpu.device"
      ],
      "metadata": {
        "colab": {
          "base_uri": "https://localhost:8080/"
        },
        "id": "3dZbJuGZjNko",
        "outputId": "5814bf52-533e-4a39-dc1b-630ec5ddfbe1"
      },
      "execution_count": 259,
      "outputs": [
        {
          "output_type": "execute_result",
          "data": {
            "text/plain": [
              "device(type='cpu')"
            ]
          },
          "metadata": {},
          "execution_count": 259
        }
      ]
    },
    {
      "cell_type": "code",
      "source": [
        "tensor_cpu.numpy()"
      ],
      "metadata": {
        "colab": {
          "base_uri": "https://localhost:8080/"
        },
        "id": "N03KnkUijOu5",
        "outputId": "3eb00a3b-758b-4cab-fa2e-c77e031cbff0"
      },
      "execution_count": 260,
      "outputs": [
        {
          "output_type": "execute_result",
          "data": {
            "text/plain": [
              "array([1., 1., 1., 1., 1., 1., 1., 1., 1., 1.], dtype=float32)"
            ]
          },
          "metadata": {},
          "execution_count": 260
        }
      ]
    },
    {
      "cell_type": "markdown",
      "source": [
        "###We cannot convert a tensor on a GPU to a np array, we need to chenge it's device to CPU"
      ],
      "metadata": {
        "id": "0mUWIKgljk01"
      }
    },
    {
      "cell_type": "code",
      "source": [
        "tensor_on_gpy.cpu().numpy()"
      ],
      "metadata": {
        "colab": {
          "base_uri": "https://localhost:8080/"
        },
        "id": "gj5tpMDqjr9E",
        "outputId": "0f78a339-cb68-496e-e0e9-3c50076e68b3"
      },
      "execution_count": 261,
      "outputs": [
        {
          "output_type": "execute_result",
          "data": {
            "text/plain": [
              "array([1., 1., 1., 1., 1., 1., 1., 1., 1., 1.], dtype=float32)"
            ]
          },
          "metadata": {},
          "execution_count": 261
        }
      ]
    },
    {
      "cell_type": "code",
      "source": [],
      "metadata": {
        "id": "j1FMWJxdj0wB"
      },
      "execution_count": null,
      "outputs": []
    }
  ]
}