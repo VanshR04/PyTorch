{
  "nbformat": 4,
  "nbformat_minor": 0,
  "metadata": {
    "colab": {
      "provenance": [],
      "gpuType": "T4",
      "authorship_tag": "ABX9TyPNHd3yTLxb+qCOW7ldhHbn",
      "include_colab_link": true
    },
    "kernelspec": {
      "name": "python3",
      "display_name": "Python 3"
    },
    "language_info": {
      "name": "python"
    },
    "accelerator": "GPU"
  },
  "cells": [
    {
      "cell_type": "markdown",
      "metadata": {
        "id": "view-in-github",
        "colab_type": "text"
      },
      "source": [
        "<a href=\"https://colab.research.google.com/github/VanshR04/Pytorch/blob/main/torch_workflow.ipynb\" target=\"_parent\"><img src=\"https://colab.research.google.com/assets/colab-badge.svg\" alt=\"Open In Colab\"/></a>"
      ]
    },
    {
      "cell_type": "code",
      "execution_count": 58,
      "metadata": {
        "id": "Dl8vkn8TlRVx"
      },
      "outputs": [],
      "source": [
        "import torch\n",
        "from torch import nn #nn contains all of pytorch building blocks for neural networks\n",
        "import matplotlib.pyplot as plt"
      ]
    },
    {
      "cell_type": "code",
      "source": [
        "!nvidia-smi"
      ],
      "metadata": {
        "colab": {
          "base_uri": "https://localhost:8080/"
        },
        "id": "d-F1DsQ5m6d8",
        "outputId": "a3d0d547-cbfd-4360-8663-20a9f76da339"
      },
      "execution_count": 59,
      "outputs": [
        {
          "output_type": "stream",
          "name": "stdout",
          "text": [
            "Sun Feb  2 00:51:18 2025       \n",
            "+-----------------------------------------------------------------------------------------+\n",
            "| NVIDIA-SMI 550.54.15              Driver Version: 550.54.15      CUDA Version: 12.4     |\n",
            "|-----------------------------------------+------------------------+----------------------+\n",
            "| GPU  Name                 Persistence-M | Bus-Id          Disp.A | Volatile Uncorr. ECC |\n",
            "| Fan  Temp   Perf          Pwr:Usage/Cap |           Memory-Usage | GPU-Util  Compute M. |\n",
            "|                                         |                        |               MIG M. |\n",
            "|=========================================+========================+======================|\n",
            "|   0  Tesla T4                       Off |   00000000:00:04.0 Off |                    0 |\n",
            "| N/A   36C    P8              9W /   70W |       2MiB /  15360MiB |      0%      Default |\n",
            "|                                         |                        |                  N/A |\n",
            "+-----------------------------------------+------------------------+----------------------+\n",
            "                                                                                         \n",
            "+-----------------------------------------------------------------------------------------+\n",
            "| Processes:                                                                              |\n",
            "|  GPU   GI   CI        PID   Type   Process name                              GPU Memory |\n",
            "|        ID   ID                                                               Usage      |\n",
            "|=========================================================================================|\n",
            "|  No running processes found                                                             |\n",
            "+-----------------------------------------------------------------------------------------+\n"
          ]
        }
      ]
    },
    {
      "cell_type": "code",
      "source": [
        "torch.__version__"
      ],
      "metadata": {
        "colab": {
          "base_uri": "https://localhost:8080/",
          "height": 35
        },
        "id": "8szgdliUnC8w",
        "outputId": "7c07e661-cfa4-4174-8a2e-7ef6d5b2297c"
      },
      "execution_count": 60,
      "outputs": [
        {
          "output_type": "execute_result",
          "data": {
            "text/plain": [
              "'2.5.1+cu124'"
            ],
            "application/vnd.google.colaboratory.intrinsic+json": {
              "type": "string"
            }
          },
          "metadata": {},
          "execution_count": 60
        }
      ]
    },
    {
      "cell_type": "markdown",
      "source": [
        "###Preparing and loading **DATA**\n",
        "\n",
        "Data is almost anything (text, excel, images, videos, audio, dna)\n",
        "\n",
        "**ML** requires to get data into numerical representation -> build a model to learn patterns in the numerical representations"
      ],
      "metadata": {
        "id": "qI8ogQTqoIge"
      }
    },
    {
      "cell_type": "code",
      "source": [
        "# known parameters\n",
        "\n",
        "weight = 0.7\n",
        "bias = 0.3"
      ],
      "metadata": {
        "id": "iJYf_PZ0pbI2"
      },
      "execution_count": 61,
      "outputs": []
    },
    {
      "cell_type": "code",
      "source": [
        "X = torch.arange(0,1,0.02).unsqueeze(dim = 1)\n",
        "y = weight*X + bias\n",
        "\n",
        "X[:10], y[:10], len(X), len(y)"
      ],
      "metadata": {
        "colab": {
          "base_uri": "https://localhost:8080/"
        },
        "id": "HKgH2ez1plNe",
        "outputId": "59105cee-9d18-4d98-b558-2b739a752468"
      },
      "execution_count": 62,
      "outputs": [
        {
          "output_type": "execute_result",
          "data": {
            "text/plain": [
              "(tensor([[0.0000],\n",
              "         [0.0200],\n",
              "         [0.0400],\n",
              "         [0.0600],\n",
              "         [0.0800],\n",
              "         [0.1000],\n",
              "         [0.1200],\n",
              "         [0.1400],\n",
              "         [0.1600],\n",
              "         [0.1800]]),\n",
              " tensor([[0.3000],\n",
              "         [0.3140],\n",
              "         [0.3280],\n",
              "         [0.3420],\n",
              "         [0.3560],\n",
              "         [0.3700],\n",
              "         [0.3840],\n",
              "         [0.3980],\n",
              "         [0.4120],\n",
              "         [0.4260]]),\n",
              " 50,\n",
              " 50)"
            ]
          },
          "metadata": {},
          "execution_count": 62
        }
      ]
    },
    {
      "cell_type": "markdown",
      "source": [
        "###Splitting Data into training and testing datasets\n",
        "\n",
        "###**GENERALISATION** -> Ability of machine to perform well on data it has not seen or trained on"
      ],
      "metadata": {
        "id": "ELmFu_4oq8Uj"
      }
    },
    {
      "cell_type": "code",
      "source": [
        "X_train, y_train = X[:40], y[:40]\n",
        "X_test, y_test = X[40:], y[40:]"
      ],
      "metadata": {
        "id": "KG1Nx2AmrAyX"
      },
      "execution_count": 63,
      "outputs": []
    },
    {
      "cell_type": "code",
      "source": [
        "len(X_train), len(y_train), len(X_test), len(y_test)"
      ],
      "metadata": {
        "colab": {
          "base_uri": "https://localhost:8080/"
        },
        "id": "R1FbPytxr9ga",
        "outputId": "fbe92c88-1321-4b97-c283-b5be24ec3971"
      },
      "execution_count": 64,
      "outputs": [
        {
          "output_type": "execute_result",
          "data": {
            "text/plain": [
              "(40, 40, 10, 10)"
            ]
          },
          "metadata": {},
          "execution_count": 64
        }
      ]
    },
    {
      "cell_type": "markdown",
      "source": [
        "##Visualizing data"
      ],
      "metadata": {
        "id": "3gW7At8vssH4"
      }
    },
    {
      "cell_type": "code",
      "source": [
        "def visualize(train = X_train, labels = y_train, test = X_test, label_test = y_test, predictions = None):\n",
        "  plt.figure(figsize = (10,7))\n",
        "  plt.scatter(train, labels, c =\"b\", s = 4, label = \"Training data\")\n",
        "  plt.scatter(test, label_test, c =\"g\", s = 4, label = \"Test Data\")\n",
        "\n",
        "  if predictions is not None:\n",
        "    plt.scatter(test, predictions, c = \"r\", s = 4, label = \"Predictions\")\n",
        "    plt.legend(prop = {\"size\" : 14})"
      ],
      "metadata": {
        "id": "0kDWjdvXsv9Y"
      },
      "execution_count": 65,
      "outputs": []
    },
    {
      "cell_type": "code",
      "source": [
        "visualize()"
      ],
      "metadata": {
        "colab": {
          "base_uri": "https://localhost:8080/",
          "height": 599
        },
        "id": "NUkkIuRvuZPC",
        "outputId": "b422076a-d169-45a9-ce90-8800467ac1bd"
      },
      "execution_count": 66,
      "outputs": [
        {
          "output_type": "display_data",
          "data": {
            "text/plain": [
              "<Figure size 1000x700 with 1 Axes>"
            ],
            "image/png": "[encoded data removed]"
          },
          "metadata": {}
        }
      ]
    },
    {
      "cell_type": "markdown",
      "source": [
        "###Build the first PyTorch model"
      ],
      "metadata": {
        "id": "YRPQJV8luco-"
      }
    },
    {
      "cell_type": "code",
      "source": [
        "#create linear regression model class\n",
        "from torch import nn\n",
        "class LinearRegressionModel(nn.Module):\n",
        "  def __init__(self):\n",
        "    super().__init__()#super constructor\n",
        "    self.weights = nn.Parameter(torch.randn(1,\n",
        "                                            requires_grad=True,\n",
        "                                            dtype=torch.float))\n",
        "    self.bias = nn.Parameter(torch.randn(1,\n",
        "                                         requires_grad=True,\n",
        "                                         dtype=torch.float))\n",
        "\n",
        "  #forward method to define computation of model\n",
        "  def forward(self, x: torch.tensor) -> torch.tensor:\n",
        "    return self.weights*x + self.bias #linear regression formula"
      ],
      "metadata": {
        "id": "5hMkHtQnu7PP"
      },
      "execution_count": 67,
      "outputs": []
    },
    {
      "cell_type": "markdown",
      "source": [
        "###Adjust weights by :\n",
        "\n",
        "##1.) Back propagation\n",
        "##2.) Gradient Descent"
      ],
      "metadata": {
        "id": "NmWwdWpjyHBH"
      }
    },
    {
      "cell_type": "code",
      "source": [
        "torch.manual_seed(42)\n",
        "model = LinearRegressionModel()"
      ],
      "metadata": {
        "id": "4f8Q1bezyUWV"
      },
      "execution_count": 68,
      "outputs": []
    },
    {
      "cell_type": "code",
      "source": [
        "list(model.parameters())"
      ],
      "metadata": {
        "colab": {
          "base_uri": "https://localhost:8080/"
        },
        "id": "hEwzrxLX4Uy4",
        "outputId": "77b7b357-6e3b-4f0a-80d3-cf91564e30d9"
      },
      "execution_count": 69,
      "outputs": [
        {
          "output_type": "execute_result",
          "data": {
            "text/plain": [
              "[Parameter containing:\n",
              " tensor([0.3367], requires_grad=True),\n",
              " Parameter containing:\n",
              " tensor([0.1288], requires_grad=True)]"
            ]
          },
          "metadata": {},
          "execution_count": 69
        }
      ]
    },
    {
      "cell_type": "code",
      "source": [
        "model.state_dict() #TELLS ABOUT PARAMETERS WITH NAMES AND VALUES"
      ],
      "metadata": {
        "colab": {
          "base_uri": "https://localhost:8080/"
        },
        "id": "ia8qBMKY4W5a",
        "outputId": "fa39206a-f1fa-49fa-d0e6-5ca5d41d1160"
      },
      "execution_count": 70,
      "outputs": [
        {
          "output_type": "execute_result",
          "data": {
            "text/plain": [
              "OrderedDict([('weights', tensor([0.3367])), ('bias', tensor([0.1288]))])"
            ]
          },
          "metadata": {},
          "execution_count": 70
        }
      ]
    },
    {
      "cell_type": "markdown",
      "source": [
        "##Make predictions with 'torch.inference_mode()'"
      ],
      "metadata": {
        "id": "bVDBO1Le5Zkx"
      }
    },
    {
      "cell_type": "code",
      "source": [
        "X_test, y_test"
      ],
      "metadata": {
        "colab": {
          "base_uri": "https://localhost:8080/"
        },
        "id": "wpqMGupw7_fN",
        "outputId": "4bf61fd7-738c-4c5f-b945-c047cccc3f08"
      },
      "execution_count": 71,
      "outputs": [
        {
          "output_type": "execute_result",
          "data": {
            "text/plain": [
              "(tensor([[0.8000],\n",
              "         [0.8200],\n",
              "         [0.8400],\n",
              "         [0.8600],\n",
              "         [0.8800],\n",
              "         [0.9000],\n",
              "         [0.9200],\n",
              "         [0.9400],\n",
              "         [0.9600],\n",
              "         [0.9800]]),\n",
              " tensor([[0.8600],\n",
              "         [0.8740],\n",
              "         [0.8880],\n",
              "         [0.9020],\n",
              "         [0.9160],\n",
              "         [0.9300],\n",
              "         [0.9440],\n",
              "         [0.9580],\n",
              "         [0.9720],\n",
              "         [0.9860]]))"
            ]
          },
          "metadata": {},
          "execution_count": 71
        }
      ]
    },
    {
      "cell_type": "code",
      "source": [
        "with torch.inference_mode():\n",
        "  y_pred_1 = model(X_test)\n",
        "\n",
        "y_pred_1\n",
        "\n",
        "with torch.no_grad():\n",
        "  y_pred = model(X_test)\n",
        "\n",
        "y_pred"
      ],
      "metadata": {
        "colab": {
          "base_uri": "https://localhost:8080/"
        },
        "id": "S5z-69gr7evn",
        "outputId": "f789b6c4-a4ba-4352-9c40-5a107379bd75"
      },
      "execution_count": 72,
      "outputs": [
        {
          "output_type": "execute_result",
          "data": {
            "text/plain": [
              "tensor([[0.3982],\n",
              "        [0.4049],\n",
              "        [0.4116],\n",
              "        [0.4184],\n",
              "        [0.4251],\n",
              "        [0.4318],\n",
              "        [0.4386],\n",
              "        [0.4453],\n",
              "        [0.4520],\n",
              "        [0.4588]])"
            ]
          },
          "metadata": {},
          "execution_count": 72
        }
      ]
    },
    {
      "cell_type": "code",
      "source": [
        "visualize(predictions=y_pred_1)"
      ],
      "metadata": {
        "colab": {
          "base_uri": "https://localhost:8080/",
          "height": 599
        },
        "id": "g4CeVt1G8EOh",
        "outputId": "f859241e-7687-4e09-ab1a-5f2efd080c34"
      },
      "execution_count": 73,
      "outputs": [
        {
          "output_type": "display_data",
          "data": {
            "text/plain": [
              "<Figure size 1000x700 with 1 Axes>"
            ],
            "image/png": "[encoded data removed]"
          },
          "metadata": {}
        }
      ]
    },
    {
      "cell_type": "markdown",
      "source": [
        "###Training sample model"
      ],
      "metadata": {
        "id": "nGXR_UY68tlA"
      }
    },
    {
      "cell_type": "code",
      "source": [
        "loss = nn.L1Loss()\n",
        "loss"
      ],
      "metadata": {
        "colab": {
          "base_uri": "https://localhost:8080/"
        },
        "id": "DkNjtcZ0-JjU",
        "outputId": "8b51cb3f-643a-4626-d1cf-b5972ce79d91"
      },
      "execution_count": 74,
      "outputs": [
        {
          "output_type": "execute_result",
          "data": {
            "text/plain": [
              "L1Loss()"
            ]
          },
          "metadata": {},
          "execution_count": 74
        }
      ]
    },
    {
      "cell_type": "code",
      "source": [
        "from torch import optim"
      ],
      "metadata": {
        "id": "dJMWpd1B_S1z"
      },
      "execution_count": 75,
      "outputs": []
    },
    {
      "cell_type": "code",
      "source": [
        "optimizer = optim.SGD(model.parameters(), lr=0.005) #stochastic gradient descent"
      ],
      "metadata": {
        "id": "Ps0LltCM_jLK"
      },
      "execution_count": 76,
      "outputs": []
    },
    {
      "cell_type": "markdown",
      "source": [
        "###Training loop + Testing loop\n",
        "\n",
        "##A **Hyperparameter** is a parameter that we as data-scientists set ourselves, for eg.: learning rate, number of epochs"
      ],
      "metadata": {
        "id": "2nUmxHQD_6Jf"
      }
    },
    {
      "cell_type": "code",
      "source": [
        "epochs = 1000\n",
        "\n",
        "hist = []\n",
        "epo = []\n",
        "te = []\n",
        "for epoch in range(epochs+1):\n",
        "  model.train()#train mode sets parameters to require gradients to help with optimization\n",
        "  y_pred = model(X_train)\n",
        "  loss_val = loss(y_pred, y_train)\n",
        "  hist.append(loss_val)\n",
        "  optimizer.zero_grad() #basically resetting optimizer for each loop, setting gradients to 0\n",
        "\n",
        "  #perform backpropagation on the loss with respect to parameters\n",
        "  loss_val.backward()#perform backpropagation to perform the gradient of every parameter\n",
        "  optimizer.step() #perform gradient descent and change values of parameters to optimize\n",
        "  model.eval()\n",
        "\n",
        "  with torch.inference_mode():\n",
        "    test_pred = model(X_test)\n",
        "    loss_test = loss(test_pred, y_test)\n",
        "  if epoch%10 == 0:\n",
        "    epo.append(epoch)\n",
        "    hist.append(loss)\n",
        "    te.append(loss_test)\n",
        "    print(f\"Epoch : {epoch} | Loss : {loss_val} | Test Loss : {loss_test}\")"
      ],
      "metadata": {
        "colab": {
          "base_uri": "https://localhost:8080/"
        },
        "id": "wTcyQQvaAsuz",
        "outputId": "9aa18678-7b03-45bc-bf71-ea9f77a12209"
      },
      "execution_count": 77,
      "outputs": [
        {
          "output_type": "stream",
          "name": "stdout",
          "text": [
            "Epoch : 0 | Loss : 0.31288138031959534 | Test Loss : 0.4878006875514984\n",
            "Epoch : 10 | Loss : 0.2552763819694519 | Test Loss : 0.4204457700252533\n",
            "Epoch : 20 | Loss : 0.19767148792743683 | Test Loss : 0.3530908524990082\n",
            "Epoch : 30 | Loss : 0.14006651937961578 | Test Loss : 0.28573593497276306\n",
            "Epoch : 40 | Loss : 0.08927296102046967 | Test Loss : 0.22298328578472137\n",
            "Epoch : 50 | Loss : 0.06430868804454803 | Test Loss : 0.1780700981616974\n",
            "Epoch : 60 | Loss : 0.05326785519719124 | Test Loss : 0.14764074981212616\n",
            "Epoch : 70 | Loss : 0.048239972442388535 | Test Loss : 0.1278875768184662\n",
            "Epoch : 80 | Loss : 0.0454358235001564 | Test Loss : 0.11465175449848175\n",
            "Epoch : 90 | Loss : 0.04341598600149155 | Test Loss : 0.10575185716152191\n",
            "Epoch : 100 | Loss : 0.041651852428913116 | Test Loss : 0.10024197399616241\n",
            "Epoch : 110 | Loss : 0.03990685194730759 | Test Loss : 0.0947321355342865\n",
            "Epoch : 120 | Loss : 0.03816189616918564 | Test Loss : 0.0892225131392479\n",
            "Epoch : 130 | Loss : 0.03643612936139107 | Test Loss : 0.08474309742450714\n",
            "Epoch : 140 | Loss : 0.03471767157316208 | Test Loss : 0.08095046877861023\n",
            "Epoch : 150 | Loss : 0.03300347551703453 | Test Loss : 0.07681445777416229\n",
            "Epoch : 160 | Loss : 0.031284399330616 | Test Loss : 0.07267843186855316\n",
            "Epoch : 170 | Loss : 0.02956675924360752 | Test Loss : 0.06888581067323685\n",
            "Epoch : 180 | Loss : 0.02785203978419304 | Test Loss : 0.06474978476762772\n",
            "Epoch : 190 | Loss : 0.02613266371190548 | Test Loss : 0.06061377003788948\n",
            "Epoch : 200 | Loss : 0.024415848776698112 | Test Loss : 0.056821130216121674\n",
            "Epoch : 210 | Loss : 0.022700302302837372 | Test Loss : 0.052685122936964035\n",
            "Epoch : 220 | Loss : 0.02098093368113041 | Test Loss : 0.048549097031354904\n",
            "Epoch : 230 | Loss : 0.019264942035079002 | Test Loss : 0.044756464660167694\n",
            "Epoch : 240 | Loss : 0.0175485797226429 | Test Loss : 0.04062044620513916\n",
            "Epoch : 250 | Loss : 0.01582920365035534 | Test Loss : 0.036484431475400925\n",
            "Epoch : 260 | Loss : 0.01411402691155672 | Test Loss : 0.03269181400537491\n",
            "Epoch : 270 | Loss : 0.01239684410393238 | Test Loss : 0.02855578064918518\n",
            "Epoch : 280 | Loss : 0.010677477344870567 | Test Loss : 0.02441975474357605\n",
            "Epoch : 290 | Loss : 0.008963112719357014 | Test Loss : 0.020627140998840332\n",
            "Epoch : 300 | Loss : 0.007245116867125034 | Test Loss : 0.016491109505295753\n",
            "Epoch : 310 | Loss : 0.005526406224817038 | Test Loss : 0.012698483653366566\n",
            "Epoch : 320 | Loss : 0.003812206443399191 | Test Loss : 0.0085624810308218\n",
            "Epoch : 330 | Loss : 0.0020933852065354586 | Test Loss : 0.004426455590873957\n",
            "Epoch : 340 | Loss : 0.001977377338334918 | Test Loss : 0.0024690269492566586\n",
            "Epoch : 350 | Loss : 0.001977377338334918 | Test Loss : 0.0024690269492566586\n",
            "Epoch : 360 | Loss : 0.001977377338334918 | Test Loss : 0.0024690269492566586\n",
            "Epoch : 370 | Loss : 0.001977377338334918 | Test Loss : 0.0024690269492566586\n",
            "Epoch : 380 | Loss : 0.001977377338334918 | Test Loss : 0.0024690269492566586\n",
            "Epoch : 390 | Loss : 0.001977377338334918 | Test Loss : 0.0024690269492566586\n",
            "Epoch : 400 | Loss : 0.001977377338334918 | Test Loss : 0.0024690269492566586\n",
            "Epoch : 410 | Loss : 0.001977377338334918 | Test Loss : 0.0024690269492566586\n",
            "Epoch : 420 | Loss : 0.001977377338334918 | Test Loss : 0.0024690269492566586\n",
            "Epoch : 430 | Loss : 0.001977377338334918 | Test Loss : 0.0024690269492566586\n",
            "Epoch : 440 | Loss : 0.001977377338334918 | Test Loss : 0.0024690269492566586\n",
            "Epoch : 450 | Loss : 0.001977377338334918 | Test Loss : 0.0024690269492566586\n",
            "Epoch : 460 | Loss : 0.001977377338334918 | Test Loss : 0.0024690269492566586\n",
            "Epoch : 470 | Loss : 0.001977377338334918 | Test Loss : 0.0024690269492566586\n",
            "Epoch : 480 | Loss : 0.001977377338334918 | Test Loss : 0.0024690269492566586\n",
            "Epoch : 490 | Loss : 0.001977377338334918 | Test Loss : 0.0024690269492566586\n",
            "Epoch : 500 | Loss : 0.001977377338334918 | Test Loss : 0.0024690269492566586\n",
            "Epoch : 510 | Loss : 0.001977377338334918 | Test Loss : 0.0024690269492566586\n",
            "Epoch : 520 | Loss : 0.001977377338334918 | Test Loss : 0.0024690269492566586\n",
            "Epoch : 530 | Loss : 0.001977377338334918 | Test Loss : 0.0024690269492566586\n",
            "Epoch : 540 | Loss : 0.001977377338334918 | Test Loss : 0.0024690269492566586\n",
            "Epoch : 550 | Loss : 0.001977377338334918 | Test Loss : 0.0024690269492566586\n",
            "Epoch : 560 | Loss : 0.001977377338334918 | Test Loss : 0.0024690269492566586\n",
            "Epoch : 570 | Loss : 0.001977377338334918 | Test Loss : 0.0024690269492566586\n",
            "Epoch : 580 | Loss : 0.001977377338334918 | Test Loss : 0.0024690269492566586\n",
            "Epoch : 590 | Loss : 0.001977377338334918 | Test Loss : 0.0024690269492566586\n",
            "Epoch : 600 | Loss : 0.001977377338334918 | Test Loss : 0.0024690269492566586\n",
            "Epoch : 610 | Loss : 0.001977377338334918 | Test Loss : 0.0024690269492566586\n",
            "Epoch : 620 | Loss : 0.001977377338334918 | Test Loss : 0.0024690269492566586\n",
            "Epoch : 630 | Loss : 0.001977377338334918 | Test Loss : 0.0024690269492566586\n",
            "Epoch : 640 | Loss : 0.001977377338334918 | Test Loss : 0.0024690269492566586\n",
            "Epoch : 650 | Loss : 0.001977377338334918 | Test Loss : 0.0024690269492566586\n",
            "Epoch : 660 | Loss : 0.001977377338334918 | Test Loss : 0.0024690269492566586\n",
            "Epoch : 670 | Loss : 0.001977377338334918 | Test Loss : 0.0024690269492566586\n",
            "Epoch : 680 | Loss : 0.001977377338334918 | Test Loss : 0.0024690269492566586\n",
            "Epoch : 690 | Loss : 0.001977377338334918 | Test Loss : 0.0024690269492566586\n",
            "Epoch : 700 | Loss : 0.001977377338334918 | Test Loss : 0.0024690269492566586\n",
            "Epoch : 710 | Loss : 0.001977377338334918 | Test Loss : 0.0024690269492566586\n",
            "Epoch : 720 | Loss : 0.001977377338334918 | Test Loss : 0.0024690269492566586\n",
            "Epoch : 730 | Loss : 0.001977377338334918 | Test Loss : 0.0024690269492566586\n",
            "Epoch : 740 | Loss : 0.001977377338334918 | Test Loss : 0.0024690269492566586\n",
            "Epoch : 750 | Loss : 0.001977377338334918 | Test Loss : 0.0024690269492566586\n",
            "Epoch : 760 | Loss : 0.001977377338334918 | Test Loss : 0.0024690269492566586\n",
            "Epoch : 770 | Loss : 0.001977377338334918 | Test Loss : 0.0024690269492566586\n",
            "Epoch : 780 | Loss : 0.001977377338334918 | Test Loss : 0.0024690269492566586\n",
            "Epoch : 790 | Loss : 0.001977377338334918 | Test Loss : 0.0024690269492566586\n",
            "Epoch : 800 | Loss : 0.001977377338334918 | Test Loss : 0.0024690269492566586\n",
            "Epoch : 810 | Loss : 0.001977377338334918 | Test Loss : 0.0024690269492566586\n",
            "Epoch : 820 | Loss : 0.001977377338334918 | Test Loss : 0.0024690269492566586\n",
            "Epoch : 830 | Loss : 0.001977377338334918 | Test Loss : 0.0024690269492566586\n",
            "Epoch : 840 | Loss : 0.001977377338334918 | Test Loss : 0.0024690269492566586\n",
            "Epoch : 850 | Loss : 0.001977377338334918 | Test Loss : 0.0024690269492566586\n",
            "Epoch : 860 | Loss : 0.001977377338334918 | Test Loss : 0.0024690269492566586\n",
            "Epoch : 870 | Loss : 0.001977377338334918 | Test Loss : 0.0024690269492566586\n",
            "Epoch : 880 | Loss : 0.001977377338334918 | Test Loss : 0.0024690269492566586\n",
            "Epoch : 890 | Loss : 0.001977377338334918 | Test Loss : 0.0024690269492566586\n",
            "Epoch : 900 | Loss : 0.001977377338334918 | Test Loss : 0.0024690269492566586\n",
            "Epoch : 910 | Loss : 0.001977377338334918 | Test Loss : 0.0024690269492566586\n",
            "Epoch : 920 | Loss : 0.001977377338334918 | Test Loss : 0.0024690269492566586\n",
            "Epoch : 930 | Loss : 0.001977377338334918 | Test Loss : 0.0024690269492566586\n",
            "Epoch : 940 | Loss : 0.001977377338334918 | Test Loss : 0.0024690269492566586\n",
            "Epoch : 950 | Loss : 0.001977377338334918 | Test Loss : 0.0024690269492566586\n",
            "Epoch : 960 | Loss : 0.001977377338334918 | Test Loss : 0.0024690269492566586\n",
            "Epoch : 970 | Loss : 0.001977377338334918 | Test Loss : 0.0024690269492566586\n",
            "Epoch : 980 | Loss : 0.001977377338334918 | Test Loss : 0.0024690269492566586\n",
            "Epoch : 990 | Loss : 0.001977377338334918 | Test Loss : 0.0024690269492566586\n",
            "Epoch : 1000 | Loss : 0.001977377338334918 | Test Loss : 0.0024690269492566586\n"
          ]
        }
      ]
    },
    {
      "cell_type": "code",
      "source": [
        "list(model.parameters())"
      ],
      "metadata": {
        "colab": {
          "base_uri": "https://localhost:8080/"
        },
        "id": "exNVsl_jDu8q",
        "outputId": "afd0bbfd-a71a-4b11-944f-f8deb0534ef7"
      },
      "execution_count": 78,
      "outputs": [
        {
          "output_type": "execute_result",
          "data": {
            "text/plain": [
              "[Parameter containing:\n",
              " tensor([0.6974], requires_grad=True),\n",
              " Parameter containing:\n",
              " tensor([0.3048], requires_grad=True)]"
            ]
          },
          "metadata": {},
          "execution_count": 78
        }
      ]
    },
    {
      "cell_type": "code",
      "source": [
        "with torch.inference_mode():\n",
        "  y_pred = model(X_test)"
      ],
      "metadata": {
        "id": "Y19HWnK1Dx7P"
      },
      "execution_count": 79,
      "outputs": []
    },
    {
      "cell_type": "code",
      "source": [
        "visualize(predictions=y_pred)"
      ],
      "metadata": {
        "colab": {
          "base_uri": "https://localhost:8080/",
          "height": 599
        },
        "id": "z0d8cjTJEJuM",
        "outputId": "e07a0adb-908c-47ed-edf6-20b398ce70ae"
      },
      "execution_count": 80,
      "outputs": [
        {
          "output_type": "display_data",
          "data": {
            "text/plain": [
              "<Figure size 1000x700 with 1 Axes>"
            ],
            "image/png": "[encoded data removed]"
          },
          "metadata": {}
        }
      ]
    }
  ]
}